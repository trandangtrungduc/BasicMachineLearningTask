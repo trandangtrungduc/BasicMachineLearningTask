{
  "nbformat": 4,
  "nbformat_minor": 0,
  "metadata": {
    "colab": {
      "name": "Analytic Report.ipynb",
      "provenance": [],
      "collapsed_sections": [],
      "toc_visible": true,
      "mount_file_id": "1Fgh3fLDP3LlEnyFAjwElAt4b-Nr7lThG",
      "authorship_tag": "ABX9TyPlfCGQkXIPSJHg2saS4aAV",
      "include_colab_link": true
    },
    "kernelspec": {
      "name": "python3",
      "display_name": "Python 3"
    },
    "language_info": {
      "name": "python"
    }
  },
  "cells": [
    {
      "cell_type": "markdown",
      "metadata": {
        "id": "view-in-github",
        "colab_type": "text"
      },
      "source": [
        "<a href=\"https://colab.research.google.com/github/trandangtrungduc/BasicMachineLearningTask/blob/main/Analytic_Report.ipynb\" target=\"_parent\"><img src=\"https://colab.research.google.com/assets/colab-badge.svg\" alt=\"Open In Colab\"/></a>"
      ]
    },
    {
      "cell_type": "markdown",
      "metadata": {
        "id": "QN91IVlvxyGd"
      },
      "source": [
        "#  **TABLE OF CONTENTS**\n",
        "\n",
        "---\n",
        "\n",
        "## 1. *Introduction*\n",
        "\n",
        "## 2. *Preparing and exploring the data*\n",
        "\n",
        "> ###  2.1 Statistical overview\n",
        "\n",
        "> ###  2.2 Countries and the influence\n",
        "\n",
        "> ###  2.3 Genres and the influence\n",
        "\n",
        "## 3. *Hypothesis testing*\n",
        "> ### 3.1 Relationship between Adventure genre & Revenue \n",
        "> ### 3.1 Relationship between Drama genre & Vote average\n",
        "> ### 3.2 The effect of the release date on revenue \n",
        "## 4. *Conclusion*\n"
      ]
    },
    {
      "cell_type": "markdown",
      "metadata": {
        "id": "uHtChHRM0WQE"
      },
      "source": [
        "## **1. Introduction**\n",
        "\n",
        "> What can we say about the success of a movie before it is released? Can we predict which films will be highly rated, whether or not they are a commercial success? TMDB is a set of 5000 movie datasets and in this report, we will focus on some important questions:\n",
        "\n",
        "\n",
        "\n",
        "> 1. What areas have the most influence on revenue?\n",
        "> 2. How is movie's revenue an average score affected by its genre?\n",
        "> 3. What influence does release date have on revenue?\n",
        "\n",
        "To answer these questions, this report includes: introduction, decribing the data, visualizations, data filtering, t-test/f-test analysis and conclusion.\n",
        "\n"
      ]
    },
    {
      "cell_type": "markdown",
      "metadata": {
        "id": "rZxtJoDE6Oiv"
      },
      "source": [
        "## **2. Preparing and exploring the data**\n",
        "### 2.1 Statistical overview\n",
        "\n",
        "> Connect Google Drive and Google Colab and import necessary librabries\n",
        "\n",
        "> Load the data in file csv from Google Drive"
      ]
    },
    {
      "cell_type": "code",
      "metadata": {
        "id": "7LJ3zhqmNsmU",
        "colab": {
          "base_uri": "https://localhost:8080/"
        },
        "outputId": "4b7cb889-ea20-4cb7-925b-d62166d34fed"
      },
      "source": [
        "from google.colab import drive\n",
        "drive.mount('/content/drive')"
      ],
      "execution_count": null,
      "outputs": [
        {
          "output_type": "stream",
          "text": [
            "Drive already mounted at /content/drive; to attempt to forcibly remount, call drive.mount(\"/content/drive\", force_remount=True).\n"
          ],
          "name": "stdout"
        }
      ]
    },
    {
      "cell_type": "code",
      "metadata": {
        "id": "sNDfyK4A6PD5"
      },
      "source": [
        "import pandas as pd\n",
        "import numpy as np\n",
        "from scipy import stats\n",
        "import matplotlib.pyplot as plt\n",
        "import matplotlib as matplot\n",
        "import seaborn as sns\n",
        "import json\n",
        "import re\n",
        "%matplotlib inline"
      ],
      "execution_count": null,
      "outputs": []
    },
    {
      "cell_type": "code",
      "metadata": {
        "colab": {
          "base_uri": "https://localhost:8080/",
          "height": 717
        },
        "id": "FFJmFN25-P0w",
        "outputId": "4377f2e9-a9e3-4188-d2dd-e44b25c5a003"
      },
      "source": [
        "df = pd.read_csv('/content/drive/MyDrive/Data/tmdb_5000_movies.csv') # Load data from Google Drive\n",
        "df.head() # See some information at the top of dataset"
      ],
      "execution_count": null,
      "outputs": [
        {
          "output_type": "execute_result",
          "data": {
            "text/html": [
              "<div>\n",
              "<style scoped>\n",
              "    .dataframe tbody tr th:only-of-type {\n",
              "        vertical-align: middle;\n",
              "    }\n",
              "\n",
              "    .dataframe tbody tr th {\n",
              "        vertical-align: top;\n",
              "    }\n",
              "\n",
              "    .dataframe thead th {\n",
              "        text-align: right;\n",
              "    }\n",
              "</style>\n",
              "<table border=\"1\" class=\"dataframe\">\n",
              "  <thead>\n",
              "    <tr style=\"text-align: right;\">\n",
              "      <th></th>\n",
              "      <th>budget</th>\n",
              "      <th>genres</th>\n",
              "      <th>homepage</th>\n",
              "      <th>id</th>\n",
              "      <th>keywords</th>\n",
              "      <th>original_language</th>\n",
              "      <th>original_title</th>\n",
              "      <th>overview</th>\n",
              "      <th>popularity</th>\n",
              "      <th>production_companies</th>\n",
              "      <th>production_countries</th>\n",
              "      <th>release_date</th>\n",
              "      <th>revenue</th>\n",
              "      <th>runtime</th>\n",
              "      <th>spoken_languages</th>\n",
              "      <th>status</th>\n",
              "      <th>tagline</th>\n",
              "      <th>title</th>\n",
              "      <th>vote_average</th>\n",
              "      <th>vote_count</th>\n",
              "    </tr>\n",
              "  </thead>\n",
              "  <tbody>\n",
              "    <tr>\n",
              "      <th>0</th>\n",
              "      <td>237000000</td>\n",
              "      <td>[{\"id\": 28, \"name\": \"Action\"}, {\"id\": 12, \"nam...</td>\n",
              "      <td>http://www.avatarmovie.com/</td>\n",
              "      <td>19995</td>\n",
              "      <td>[{\"id\": 1463, \"name\": \"culture clash\"}, {\"id\":...</td>\n",
              "      <td>en</td>\n",
              "      <td>Avatar</td>\n",
              "      <td>In the 22nd century, a paraplegic Marine is di...</td>\n",
              "      <td>150.437577</td>\n",
              "      <td>[{\"name\": \"Ingenious Film Partners\", \"id\": 289...</td>\n",
              "      <td>[{\"iso_3166_1\": \"US\", \"name\": \"United States o...</td>\n",
              "      <td>2009-12-10</td>\n",
              "      <td>2787965087</td>\n",
              "      <td>162.0</td>\n",
              "      <td>[{\"iso_639_1\": \"en\", \"name\": \"English\"}, {\"iso...</td>\n",
              "      <td>Released</td>\n",
              "      <td>Enter the World of Pandora.</td>\n",
              "      <td>Avatar</td>\n",
              "      <td>7.2</td>\n",
              "      <td>11800</td>\n",
              "    </tr>\n",
              "    <tr>\n",
              "      <th>1</th>\n",
              "      <td>300000000</td>\n",
              "      <td>[{\"id\": 12, \"name\": \"Adventure\"}, {\"id\": 14, \"...</td>\n",
              "      <td>http://disney.go.com/disneypictures/pirates/</td>\n",
              "      <td>285</td>\n",
              "      <td>[{\"id\": 270, \"name\": \"ocean\"}, {\"id\": 726, \"na...</td>\n",
              "      <td>en</td>\n",
              "      <td>Pirates of the Caribbean: At World's End</td>\n",
              "      <td>Captain Barbossa, long believed to be dead, ha...</td>\n",
              "      <td>139.082615</td>\n",
              "      <td>[{\"name\": \"Walt Disney Pictures\", \"id\": 2}, {\"...</td>\n",
              "      <td>[{\"iso_3166_1\": \"US\", \"name\": \"United States o...</td>\n",
              "      <td>2007-05-19</td>\n",
              "      <td>961000000</td>\n",
              "      <td>169.0</td>\n",
              "      <td>[{\"iso_639_1\": \"en\", \"name\": \"English\"}]</td>\n",
              "      <td>Released</td>\n",
              "      <td>At the end of the world, the adventure begins.</td>\n",
              "      <td>Pirates of the Caribbean: At World's End</td>\n",
              "      <td>6.9</td>\n",
              "      <td>4500</td>\n",
              "    </tr>\n",
              "    <tr>\n",
              "      <th>2</th>\n",
              "      <td>245000000</td>\n",
              "      <td>[{\"id\": 28, \"name\": \"Action\"}, {\"id\": 12, \"nam...</td>\n",
              "      <td>http://www.sonypictures.com/movies/spectre/</td>\n",
              "      <td>206647</td>\n",
              "      <td>[{\"id\": 470, \"name\": \"spy\"}, {\"id\": 818, \"name...</td>\n",
              "      <td>en</td>\n",
              "      <td>Spectre</td>\n",
              "      <td>A cryptic message from Bond’s past sends him o...</td>\n",
              "      <td>107.376788</td>\n",
              "      <td>[{\"name\": \"Columbia Pictures\", \"id\": 5}, {\"nam...</td>\n",
              "      <td>[{\"iso_3166_1\": \"GB\", \"name\": \"United Kingdom\"...</td>\n",
              "      <td>2015-10-26</td>\n",
              "      <td>880674609</td>\n",
              "      <td>148.0</td>\n",
              "      <td>[{\"iso_639_1\": \"fr\", \"name\": \"Fran\\u00e7ais\"},...</td>\n",
              "      <td>Released</td>\n",
              "      <td>A Plan No One Escapes</td>\n",
              "      <td>Spectre</td>\n",
              "      <td>6.3</td>\n",
              "      <td>4466</td>\n",
              "    </tr>\n",
              "    <tr>\n",
              "      <th>3</th>\n",
              "      <td>250000000</td>\n",
              "      <td>[{\"id\": 28, \"name\": \"Action\"}, {\"id\": 80, \"nam...</td>\n",
              "      <td>http://www.thedarkknightrises.com/</td>\n",
              "      <td>49026</td>\n",
              "      <td>[{\"id\": 849, \"name\": \"dc comics\"}, {\"id\": 853,...</td>\n",
              "      <td>en</td>\n",
              "      <td>The Dark Knight Rises</td>\n",
              "      <td>Following the death of District Attorney Harve...</td>\n",
              "      <td>112.312950</td>\n",
              "      <td>[{\"name\": \"Legendary Pictures\", \"id\": 923}, {\"...</td>\n",
              "      <td>[{\"iso_3166_1\": \"US\", \"name\": \"United States o...</td>\n",
              "      <td>2012-07-16</td>\n",
              "      <td>1084939099</td>\n",
              "      <td>165.0</td>\n",
              "      <td>[{\"iso_639_1\": \"en\", \"name\": \"English\"}]</td>\n",
              "      <td>Released</td>\n",
              "      <td>The Legend Ends</td>\n",
              "      <td>The Dark Knight Rises</td>\n",
              "      <td>7.6</td>\n",
              "      <td>9106</td>\n",
              "    </tr>\n",
              "    <tr>\n",
              "      <th>4</th>\n",
              "      <td>260000000</td>\n",
              "      <td>[{\"id\": 28, \"name\": \"Action\"}, {\"id\": 12, \"nam...</td>\n",
              "      <td>http://movies.disney.com/john-carter</td>\n",
              "      <td>49529</td>\n",
              "      <td>[{\"id\": 818, \"name\": \"based on novel\"}, {\"id\":...</td>\n",
              "      <td>en</td>\n",
              "      <td>John Carter</td>\n",
              "      <td>John Carter is a war-weary, former military ca...</td>\n",
              "      <td>43.926995</td>\n",
              "      <td>[{\"name\": \"Walt Disney Pictures\", \"id\": 2}]</td>\n",
              "      <td>[{\"iso_3166_1\": \"US\", \"name\": \"United States o...</td>\n",
              "      <td>2012-03-07</td>\n",
              "      <td>284139100</td>\n",
              "      <td>132.0</td>\n",
              "      <td>[{\"iso_639_1\": \"en\", \"name\": \"English\"}]</td>\n",
              "      <td>Released</td>\n",
              "      <td>Lost in our world, found in another.</td>\n",
              "      <td>John Carter</td>\n",
              "      <td>6.1</td>\n",
              "      <td>2124</td>\n",
              "    </tr>\n",
              "  </tbody>\n",
              "</table>\n",
              "</div>"
            ],
            "text/plain": [
              "      budget  ... vote_count\n",
              "0  237000000  ...      11800\n",
              "1  300000000  ...       4500\n",
              "2  245000000  ...       4466\n",
              "3  250000000  ...       9106\n",
              "4  260000000  ...       2124\n",
              "\n",
              "[5 rows x 20 columns]"
            ]
          },
          "metadata": {
            "tags": []
          },
          "execution_count": 24
        }
      ]
    },
    {
      "cell_type": "code",
      "metadata": {
        "colab": {
          "base_uri": "https://localhost:8080/"
        },
        "id": "litK06o6D1sj",
        "outputId": "f2edaaf0-4605-4e8e-bdad-caff46768cd2"
      },
      "source": [
        "df.shape # Size of data \n"
      ],
      "execution_count": null,
      "outputs": [
        {
          "output_type": "execute_result",
          "data": {
            "text/plain": [
              "(4803, 20)"
            ]
          },
          "metadata": {
            "tags": []
          },
          "execution_count": 4
        }
      ]
    },
    {
      "cell_type": "code",
      "metadata": {
        "colab": {
          "base_uri": "https://localhost:8080/"
        },
        "id": "R27aVq55MrwN",
        "outputId": "41ebb85c-eae4-400f-9b80-7d805d15eaa8"
      },
      "source": [
        "df.dtypes # Type of data"
      ],
      "execution_count": null,
      "outputs": [
        {
          "output_type": "execute_result",
          "data": {
            "text/plain": [
              "budget                    int64\n",
              "genres                   object\n",
              "homepage                 object\n",
              "id                        int64\n",
              "keywords                 object\n",
              "original_language        object\n",
              "original_title           object\n",
              "overview                 object\n",
              "popularity              float64\n",
              "production_companies     object\n",
              "production_countries     object\n",
              "release_date             object\n",
              "revenue                   int64\n",
              "runtime                 float64\n",
              "spoken_languages         object\n",
              "status                   object\n",
              "tagline                  object\n",
              "title                    object\n",
              "vote_average            float64\n",
              "vote_count                int64\n",
              "dtype: object"
            ]
          },
          "metadata": {
            "tags": []
          },
          "execution_count": 5
        }
      ]
    },
    {
      "cell_type": "markdown",
      "metadata": {
        "id": "Ssvm7_YeEnLc"
      },
      "source": [
        "> The data has 4803 movies and 20 features.\n",
        "\n",
        "> The data has 3 formats: object, float64 and int64."
      ]
    },
    {
      "cell_type": "code",
      "metadata": {
        "colab": {
          "base_uri": "https://localhost:8080/",
          "height": 266
        },
        "id": "8NJ9LM6SE4hs",
        "outputId": "e4991c8b-0b34-413c-fa0d-bf81741abe6d"
      },
      "source": [
        "df.describe().T # Descriptive statistic of numeric dataset\n"
      ],
      "execution_count": null,
      "outputs": [
        {
          "output_type": "execute_result",
          "data": {
            "text/html": [
              "<div>\n",
              "<style scoped>\n",
              "    .dataframe tbody tr th:only-of-type {\n",
              "        vertical-align: middle;\n",
              "    }\n",
              "\n",
              "    .dataframe tbody tr th {\n",
              "        vertical-align: top;\n",
              "    }\n",
              "\n",
              "    .dataframe thead th {\n",
              "        text-align: right;\n",
              "    }\n",
              "</style>\n",
              "<table border=\"1\" class=\"dataframe\">\n",
              "  <thead>\n",
              "    <tr style=\"text-align: right;\">\n",
              "      <th></th>\n",
              "      <th>count</th>\n",
              "      <th>mean</th>\n",
              "      <th>std</th>\n",
              "      <th>min</th>\n",
              "      <th>25%</th>\n",
              "      <th>50%</th>\n",
              "      <th>75%</th>\n",
              "      <th>max</th>\n",
              "    </tr>\n",
              "  </thead>\n",
              "  <tbody>\n",
              "    <tr>\n",
              "      <th>budget</th>\n",
              "      <td>4803.0</td>\n",
              "      <td>2.904504e+07</td>\n",
              "      <td>4.072239e+07</td>\n",
              "      <td>0.0</td>\n",
              "      <td>790000.00000</td>\n",
              "      <td>1.500000e+07</td>\n",
              "      <td>4.000000e+07</td>\n",
              "      <td>3.800000e+08</td>\n",
              "    </tr>\n",
              "    <tr>\n",
              "      <th>id</th>\n",
              "      <td>4803.0</td>\n",
              "      <td>5.716548e+04</td>\n",
              "      <td>8.869461e+04</td>\n",
              "      <td>5.0</td>\n",
              "      <td>9014.50000</td>\n",
              "      <td>1.462900e+04</td>\n",
              "      <td>5.861050e+04</td>\n",
              "      <td>4.594880e+05</td>\n",
              "    </tr>\n",
              "    <tr>\n",
              "      <th>popularity</th>\n",
              "      <td>4803.0</td>\n",
              "      <td>2.149230e+01</td>\n",
              "      <td>3.181665e+01</td>\n",
              "      <td>0.0</td>\n",
              "      <td>4.66807</td>\n",
              "      <td>1.292159e+01</td>\n",
              "      <td>2.831350e+01</td>\n",
              "      <td>8.755813e+02</td>\n",
              "    </tr>\n",
              "    <tr>\n",
              "      <th>revenue</th>\n",
              "      <td>4803.0</td>\n",
              "      <td>8.226064e+07</td>\n",
              "      <td>1.628571e+08</td>\n",
              "      <td>0.0</td>\n",
              "      <td>0.00000</td>\n",
              "      <td>1.917000e+07</td>\n",
              "      <td>9.291719e+07</td>\n",
              "      <td>2.787965e+09</td>\n",
              "    </tr>\n",
              "    <tr>\n",
              "      <th>runtime</th>\n",
              "      <td>4801.0</td>\n",
              "      <td>1.068759e+02</td>\n",
              "      <td>2.261193e+01</td>\n",
              "      <td>0.0</td>\n",
              "      <td>94.00000</td>\n",
              "      <td>1.030000e+02</td>\n",
              "      <td>1.180000e+02</td>\n",
              "      <td>3.380000e+02</td>\n",
              "    </tr>\n",
              "    <tr>\n",
              "      <th>vote_average</th>\n",
              "      <td>4803.0</td>\n",
              "      <td>6.092172e+00</td>\n",
              "      <td>1.194612e+00</td>\n",
              "      <td>0.0</td>\n",
              "      <td>5.60000</td>\n",
              "      <td>6.200000e+00</td>\n",
              "      <td>6.800000e+00</td>\n",
              "      <td>1.000000e+01</td>\n",
              "    </tr>\n",
              "    <tr>\n",
              "      <th>vote_count</th>\n",
              "      <td>4803.0</td>\n",
              "      <td>6.902180e+02</td>\n",
              "      <td>1.234586e+03</td>\n",
              "      <td>0.0</td>\n",
              "      <td>54.00000</td>\n",
              "      <td>2.350000e+02</td>\n",
              "      <td>7.370000e+02</td>\n",
              "      <td>1.375200e+04</td>\n",
              "    </tr>\n",
              "  </tbody>\n",
              "</table>\n",
              "</div>"
            ],
            "text/plain": [
              "               count          mean  ...           75%           max\n",
              "budget        4803.0  2.904504e+07  ...  4.000000e+07  3.800000e+08\n",
              "id            4803.0  5.716548e+04  ...  5.861050e+04  4.594880e+05\n",
              "popularity    4803.0  2.149230e+01  ...  2.831350e+01  8.755813e+02\n",
              "revenue       4803.0  8.226064e+07  ...  9.291719e+07  2.787965e+09\n",
              "runtime       4801.0  1.068759e+02  ...  1.180000e+02  3.380000e+02\n",
              "vote_average  4803.0  6.092172e+00  ...  6.800000e+00  1.000000e+01\n",
              "vote_count    4803.0  6.902180e+02  ...  7.370000e+02  1.375200e+04\n",
              "\n",
              "[7 rows x 8 columns]"
            ]
          },
          "metadata": {
            "tags": []
          },
          "execution_count": 6
        }
      ]
    },
    {
      "cell_type": "code",
      "metadata": {
        "colab": {
          "base_uri": "https://localhost:8080/",
          "height": 173
        },
        "id": "kc0ecIpmMc9z",
        "outputId": "1ebfca7d-48f6-484e-e47f-3f17ad21087b"
      },
      "source": [
        "df.describe(include=[object])  # Descriptive statistic of object dataset"
      ],
      "execution_count": null,
      "outputs": [
        {
          "output_type": "execute_result",
          "data": {
            "text/html": [
              "<div>\n",
              "<style scoped>\n",
              "    .dataframe tbody tr th:only-of-type {\n",
              "        vertical-align: middle;\n",
              "    }\n",
              "\n",
              "    .dataframe tbody tr th {\n",
              "        vertical-align: top;\n",
              "    }\n",
              "\n",
              "    .dataframe thead th {\n",
              "        text-align: right;\n",
              "    }\n",
              "</style>\n",
              "<table border=\"1\" class=\"dataframe\">\n",
              "  <thead>\n",
              "    <tr style=\"text-align: right;\">\n",
              "      <th></th>\n",
              "      <th>genres</th>\n",
              "      <th>homepage</th>\n",
              "      <th>keywords</th>\n",
              "      <th>original_language</th>\n",
              "      <th>original_title</th>\n",
              "      <th>overview</th>\n",
              "      <th>production_companies</th>\n",
              "      <th>production_countries</th>\n",
              "      <th>release_date</th>\n",
              "      <th>spoken_languages</th>\n",
              "      <th>status</th>\n",
              "      <th>tagline</th>\n",
              "      <th>title</th>\n",
              "    </tr>\n",
              "  </thead>\n",
              "  <tbody>\n",
              "    <tr>\n",
              "      <th>count</th>\n",
              "      <td>4803</td>\n",
              "      <td>1712</td>\n",
              "      <td>4803</td>\n",
              "      <td>4803</td>\n",
              "      <td>4803</td>\n",
              "      <td>4800</td>\n",
              "      <td>4803</td>\n",
              "      <td>4803</td>\n",
              "      <td>4802</td>\n",
              "      <td>4803</td>\n",
              "      <td>4803</td>\n",
              "      <td>3959</td>\n",
              "      <td>4803</td>\n",
              "    </tr>\n",
              "    <tr>\n",
              "      <th>unique</th>\n",
              "      <td>1175</td>\n",
              "      <td>1691</td>\n",
              "      <td>4222</td>\n",
              "      <td>37</td>\n",
              "      <td>4801</td>\n",
              "      <td>4800</td>\n",
              "      <td>3697</td>\n",
              "      <td>469</td>\n",
              "      <td>3280</td>\n",
              "      <td>544</td>\n",
              "      <td>3</td>\n",
              "      <td>3944</td>\n",
              "      <td>4800</td>\n",
              "    </tr>\n",
              "    <tr>\n",
              "      <th>top</th>\n",
              "      <td>[{\"id\": 18, \"name\": \"Drama\"}]</td>\n",
              "      <td>http://www.thehungergames.movie/</td>\n",
              "      <td>[]</td>\n",
              "      <td>en</td>\n",
              "      <td>Out of the Blue</td>\n",
              "      <td>Three dance crews – one Latin American, one Eu...</td>\n",
              "      <td>[]</td>\n",
              "      <td>[{\"iso_3166_1\": \"US\", \"name\": \"United States o...</td>\n",
              "      <td>2006-01-01</td>\n",
              "      <td>[{\"iso_639_1\": \"en\", \"name\": \"English\"}]</td>\n",
              "      <td>Released</td>\n",
              "      <td>Based on a true story.</td>\n",
              "      <td>The Host</td>\n",
              "    </tr>\n",
              "    <tr>\n",
              "      <th>freq</th>\n",
              "      <td>370</td>\n",
              "      <td>4</td>\n",
              "      <td>412</td>\n",
              "      <td>4505</td>\n",
              "      <td>2</td>\n",
              "      <td>1</td>\n",
              "      <td>351</td>\n",
              "      <td>2977</td>\n",
              "      <td>10</td>\n",
              "      <td>3171</td>\n",
              "      <td>4795</td>\n",
              "      <td>3</td>\n",
              "      <td>2</td>\n",
              "    </tr>\n",
              "  </tbody>\n",
              "</table>\n",
              "</div>"
            ],
            "text/plain": [
              "                               genres  ...     title\n",
              "count                            4803  ...      4803\n",
              "unique                           1175  ...      4800\n",
              "top     [{\"id\": 18, \"name\": \"Drama\"}]  ...  The Host\n",
              "freq                              370  ...         2\n",
              "\n",
              "[4 rows x 13 columns]"
            ]
          },
          "metadata": {
            "tags": []
          },
          "execution_count": 8
        }
      ]
    },
    {
      "cell_type": "markdown",
      "metadata": {
        "id": "g3a7IzjSPG-h"
      },
      "source": [
        "> Based on rows \"count\" of two above descriptive statistic tables, we can see that the data with missing values are: runtime, homepage, overview, release_date and tagline. We need to handle these missing values in the most reasonable way."
      ]
    },
    {
      "cell_type": "markdown",
      "metadata": {
        "id": "vrDbW-T_RbSP"
      },
      "source": [
        "### 2.1 Analyzing and cleaning data\n",
        "\n",
        "> Check missing values of each columns"
      ]
    },
    {
      "cell_type": "code",
      "metadata": {
        "colab": {
          "base_uri": "https://localhost:8080/",
          "height": 162
        },
        "id": "cEW4cd-uOqT7",
        "outputId": "a309ae1d-63a5-44e0-93ea-ae36ac6c0d38"
      },
      "source": [
        "df[df.runtime.isnull()] # Check missing values of runtime feature"
      ],
      "execution_count": null,
      "outputs": [
        {
          "output_type": "execute_result",
          "data": {
            "text/html": [
              "<div>\n",
              "<style scoped>\n",
              "    .dataframe tbody tr th:only-of-type {\n",
              "        vertical-align: middle;\n",
              "    }\n",
              "\n",
              "    .dataframe tbody tr th {\n",
              "        vertical-align: top;\n",
              "    }\n",
              "\n",
              "    .dataframe thead th {\n",
              "        text-align: right;\n",
              "    }\n",
              "</style>\n",
              "<table border=\"1\" class=\"dataframe\">\n",
              "  <thead>\n",
              "    <tr style=\"text-align: right;\">\n",
              "      <th></th>\n",
              "      <th>budget</th>\n",
              "      <th>genres</th>\n",
              "      <th>homepage</th>\n",
              "      <th>id</th>\n",
              "      <th>keywords</th>\n",
              "      <th>original_language</th>\n",
              "      <th>original_title</th>\n",
              "      <th>overview</th>\n",
              "      <th>popularity</th>\n",
              "      <th>production_companies</th>\n",
              "      <th>production_countries</th>\n",
              "      <th>release_date</th>\n",
              "      <th>revenue</th>\n",
              "      <th>runtime</th>\n",
              "      <th>spoken_languages</th>\n",
              "      <th>status</th>\n",
              "      <th>tagline</th>\n",
              "      <th>title</th>\n",
              "      <th>vote_average</th>\n",
              "      <th>vote_count</th>\n",
              "    </tr>\n",
              "  </thead>\n",
              "  <tbody>\n",
              "    <tr>\n",
              "      <th>2656</th>\n",
              "      <td>15000000</td>\n",
              "      <td>[{\"id\": 18, \"name\": \"Drama\"}]</td>\n",
              "      <td>NaN</td>\n",
              "      <td>370980</td>\n",
              "      <td>[{\"id\": 717, \"name\": \"pope\"}, {\"id\": 5565, \"na...</td>\n",
              "      <td>it</td>\n",
              "      <td>Chiamatemi Francesco - Il Papa della gente</td>\n",
              "      <td>NaN</td>\n",
              "      <td>0.738646</td>\n",
              "      <td>[{\"name\": \"Taodue Film\", \"id\": 45724}]</td>\n",
              "      <td>[{\"iso_3166_1\": \"IT\", \"name\": \"Italy\"}]</td>\n",
              "      <td>2015-12-03</td>\n",
              "      <td>0</td>\n",
              "      <td>NaN</td>\n",
              "      <td>[{\"iso_639_1\": \"es\", \"name\": \"Espa\\u00f1ol\"}]</td>\n",
              "      <td>Released</td>\n",
              "      <td>NaN</td>\n",
              "      <td>Chiamatemi Francesco - Il Papa della gente</td>\n",
              "      <td>7.3</td>\n",
              "      <td>12</td>\n",
              "    </tr>\n",
              "    <tr>\n",
              "      <th>4140</th>\n",
              "      <td>2</td>\n",
              "      <td>[{\"id\": 99, \"name\": \"Documentary\"}]</td>\n",
              "      <td>NaN</td>\n",
              "      <td>459488</td>\n",
              "      <td>[{\"id\": 6027, \"name\": \"music\"}, {\"id\": 225822,...</td>\n",
              "      <td>en</td>\n",
              "      <td>To Be Frank, Sinatra at 100</td>\n",
              "      <td>NaN</td>\n",
              "      <td>0.050625</td>\n",
              "      <td>[{\"name\": \"Eyeline Entertainment\", \"id\": 60343}]</td>\n",
              "      <td>[{\"iso_3166_1\": \"GB\", \"name\": \"United Kingdom\"}]</td>\n",
              "      <td>2015-12-12</td>\n",
              "      <td>0</td>\n",
              "      <td>NaN</td>\n",
              "      <td>[]</td>\n",
              "      <td>Released</td>\n",
              "      <td>NaN</td>\n",
              "      <td>To Be Frank, Sinatra at 100</td>\n",
              "      <td>0.0</td>\n",
              "      <td>0</td>\n",
              "    </tr>\n",
              "  </tbody>\n",
              "</table>\n",
              "</div>"
            ],
            "text/plain": [
              "        budget                               genres  ... vote_average  vote_count\n",
              "2656  15000000        [{\"id\": 18, \"name\": \"Drama\"}]  ...          7.3          12\n",
              "4140         2  [{\"id\": 99, \"name\": \"Documentary\"}]  ...          0.0           0\n",
              "\n",
              "[2 rows x 20 columns]"
            ]
          },
          "metadata": {
            "tags": []
          },
          "execution_count": 9
        }
      ]
    },
    {
      "cell_type": "code",
      "metadata": {
        "colab": {
          "base_uri": "https://localhost:8080/",
          "height": 86
        },
        "id": "aXD2NEiZQU-8",
        "outputId": "9a5d8e92-e2a6-4e75-be2c-b95251b33670"
      },
      "source": [
        "df[df.homepage.isnull()] # Check missing values of homepage feature"
      ],
      "execution_count": null,
      "outputs": [
        {
          "output_type": "execute_result",
          "data": {
            "text/html": [
              "<div>\n",
              "<style scoped>\n",
              "    .dataframe tbody tr th:only-of-type {\n",
              "        vertical-align: middle;\n",
              "    }\n",
              "\n",
              "    .dataframe tbody tr th {\n",
              "        vertical-align: top;\n",
              "    }\n",
              "\n",
              "    .dataframe thead th {\n",
              "        text-align: right;\n",
              "    }\n",
              "</style>\n",
              "<table border=\"1\" class=\"dataframe\">\n",
              "  <thead>\n",
              "    <tr style=\"text-align: right;\">\n",
              "      <th></th>\n",
              "      <th>budget</th>\n",
              "      <th>genres</th>\n",
              "      <th>homepage</th>\n",
              "      <th>id</th>\n",
              "      <th>keywords</th>\n",
              "      <th>original_language</th>\n",
              "      <th>original_title</th>\n",
              "      <th>overview</th>\n",
              "      <th>popularity</th>\n",
              "      <th>production_companies</th>\n",
              "      <th>production_countries</th>\n",
              "      <th>release_date</th>\n",
              "      <th>revenue</th>\n",
              "      <th>runtime</th>\n",
              "      <th>spoken_languages</th>\n",
              "      <th>status</th>\n",
              "      <th>tagline</th>\n",
              "      <th>title</th>\n",
              "      <th>vote_average</th>\n",
              "      <th>vote_count</th>\n",
              "      <th>Action</th>\n",
              "      <th>Adventure</th>\n",
              "      <th>Fantasy</th>\n",
              "      <th>Science Fiction</th>\n",
              "      <th>Crime</th>\n",
              "      <th>Drama</th>\n",
              "      <th>Thriller</th>\n",
              "      <th>Animation</th>\n",
              "      <th>Family</th>\n",
              "      <th>Western</th>\n",
              "      <th>Comedy</th>\n",
              "      <th>Romance</th>\n",
              "      <th>Horror</th>\n",
              "      <th>Mystery</th>\n",
              "      <th>History</th>\n",
              "      <th>War</th>\n",
              "      <th>Music</th>\n",
              "      <th>Documentary</th>\n",
              "      <th>Foreign</th>\n",
              "      <th>TV Movie</th>\n",
              "    </tr>\n",
              "  </thead>\n",
              "  <tbody>\n",
              "  </tbody>\n",
              "</table>\n",
              "</div>"
            ],
            "text/plain": [
              "Empty DataFrame\n",
              "Columns: [budget, genres, homepage, id, keywords, original_language, original_title, overview, popularity, production_companies, production_countries, release_date, revenue, runtime, spoken_languages, status, tagline, title, vote_average, vote_count, Action, Adventure, Fantasy, Science Fiction, Crime, Drama, Thriller, Animation, Family, Western, Comedy, Romance, Horror, Mystery, History, War, Music, Documentary, Foreign, TV Movie]\n",
              "Index: []"
            ]
          },
          "metadata": {
            "tags": []
          },
          "execution_count": 46
        }
      ]
    },
    {
      "cell_type": "code",
      "metadata": {
        "colab": {
          "base_uri": "https://localhost:8080/",
          "height": 210
        },
        "id": "qBZ6FZDsQrDE",
        "outputId": "dc96b4d0-0113-4110-eac0-33bd73153e49"
      },
      "source": [
        "df[df.overview.isnull()] # Check missing values of overview feature"
      ],
      "execution_count": null,
      "outputs": [
        {
          "output_type": "execute_result",
          "data": {
            "text/html": [
              "<div>\n",
              "<style scoped>\n",
              "    .dataframe tbody tr th:only-of-type {\n",
              "        vertical-align: middle;\n",
              "    }\n",
              "\n",
              "    .dataframe tbody tr th {\n",
              "        vertical-align: top;\n",
              "    }\n",
              "\n",
              "    .dataframe thead th {\n",
              "        text-align: right;\n",
              "    }\n",
              "</style>\n",
              "<table border=\"1\" class=\"dataframe\">\n",
              "  <thead>\n",
              "    <tr style=\"text-align: right;\">\n",
              "      <th></th>\n",
              "      <th>budget</th>\n",
              "      <th>genres</th>\n",
              "      <th>homepage</th>\n",
              "      <th>id</th>\n",
              "      <th>keywords</th>\n",
              "      <th>original_language</th>\n",
              "      <th>original_title</th>\n",
              "      <th>overview</th>\n",
              "      <th>popularity</th>\n",
              "      <th>production_companies</th>\n",
              "      <th>production_countries</th>\n",
              "      <th>release_date</th>\n",
              "      <th>revenue</th>\n",
              "      <th>runtime</th>\n",
              "      <th>spoken_languages</th>\n",
              "      <th>status</th>\n",
              "      <th>tagline</th>\n",
              "      <th>title</th>\n",
              "      <th>vote_average</th>\n",
              "      <th>vote_count</th>\n",
              "    </tr>\n",
              "  </thead>\n",
              "  <tbody>\n",
              "    <tr>\n",
              "      <th>2656</th>\n",
              "      <td>15000000</td>\n",
              "      <td>[{\"id\": 18, \"name\": \"Drama\"}]</td>\n",
              "      <td>NaN</td>\n",
              "      <td>370980</td>\n",
              "      <td>[{\"id\": 717, \"name\": \"pope\"}, {\"id\": 5565, \"na...</td>\n",
              "      <td>it</td>\n",
              "      <td>Chiamatemi Francesco - Il Papa della gente</td>\n",
              "      <td>NaN</td>\n",
              "      <td>0.738646</td>\n",
              "      <td>[{\"name\": \"Taodue Film\", \"id\": 45724}]</td>\n",
              "      <td>[{\"iso_3166_1\": \"IT\", \"name\": \"Italy\"}]</td>\n",
              "      <td>2015-12-03</td>\n",
              "      <td>0</td>\n",
              "      <td>NaN</td>\n",
              "      <td>[{\"iso_639_1\": \"es\", \"name\": \"Espa\\u00f1ol\"}]</td>\n",
              "      <td>Released</td>\n",
              "      <td>NaN</td>\n",
              "      <td>Chiamatemi Francesco - Il Papa della gente</td>\n",
              "      <td>7.3</td>\n",
              "      <td>12</td>\n",
              "    </tr>\n",
              "    <tr>\n",
              "      <th>4140</th>\n",
              "      <td>2</td>\n",
              "      <td>[{\"id\": 99, \"name\": \"Documentary\"}]</td>\n",
              "      <td>NaN</td>\n",
              "      <td>459488</td>\n",
              "      <td>[{\"id\": 6027, \"name\": \"music\"}, {\"id\": 225822,...</td>\n",
              "      <td>en</td>\n",
              "      <td>To Be Frank, Sinatra at 100</td>\n",
              "      <td>NaN</td>\n",
              "      <td>0.050625</td>\n",
              "      <td>[{\"name\": \"Eyeline Entertainment\", \"id\": 60343}]</td>\n",
              "      <td>[{\"iso_3166_1\": \"GB\", \"name\": \"United Kingdom\"}]</td>\n",
              "      <td>2015-12-12</td>\n",
              "      <td>0</td>\n",
              "      <td>NaN</td>\n",
              "      <td>[]</td>\n",
              "      <td>Released</td>\n",
              "      <td>NaN</td>\n",
              "      <td>To Be Frank, Sinatra at 100</td>\n",
              "      <td>0.0</td>\n",
              "      <td>0</td>\n",
              "    </tr>\n",
              "    <tr>\n",
              "      <th>4431</th>\n",
              "      <td>913000</td>\n",
              "      <td>[{\"id\": 99, \"name\": \"Documentary\"}]</td>\n",
              "      <td>NaN</td>\n",
              "      <td>292539</td>\n",
              "      <td>[]</td>\n",
              "      <td>de</td>\n",
              "      <td>Food Chains</td>\n",
              "      <td>NaN</td>\n",
              "      <td>0.795698</td>\n",
              "      <td>[]</td>\n",
              "      <td>[]</td>\n",
              "      <td>2014-04-26</td>\n",
              "      <td>0</td>\n",
              "      <td>83.0</td>\n",
              "      <td>[{\"iso_639_1\": \"en\", \"name\": \"English\"}]</td>\n",
              "      <td>Released</td>\n",
              "      <td>NaN</td>\n",
              "      <td>Food Chains</td>\n",
              "      <td>7.4</td>\n",
              "      <td>8</td>\n",
              "    </tr>\n",
              "  </tbody>\n",
              "</table>\n",
              "</div>"
            ],
            "text/plain": [
              "        budget                               genres  ... vote_average  vote_count\n",
              "2656  15000000        [{\"id\": 18, \"name\": \"Drama\"}]  ...          7.3          12\n",
              "4140         2  [{\"id\": 99, \"name\": \"Documentary\"}]  ...          0.0           0\n",
              "4431    913000  [{\"id\": 99, \"name\": \"Documentary\"}]  ...          7.4           8\n",
              "\n",
              "[3 rows x 20 columns]"
            ]
          },
          "metadata": {
            "tags": []
          },
          "execution_count": 11
        }
      ]
    },
    {
      "cell_type": "code",
      "metadata": {
        "colab": {
          "base_uri": "https://localhost:8080/",
          "height": 80
        },
        "id": "sMSCKgnCQzVL",
        "outputId": "4e2eb48f-ac85-4abe-de56-2afdcfdb580b"
      },
      "source": [
        "df[df.release_date.isnull()] # Check missing values of release_date feature"
      ],
      "execution_count": null,
      "outputs": [
        {
          "output_type": "execute_result",
          "data": {
            "text/html": [
              "<div>\n",
              "<style scoped>\n",
              "    .dataframe tbody tr th:only-of-type {\n",
              "        vertical-align: middle;\n",
              "    }\n",
              "\n",
              "    .dataframe tbody tr th {\n",
              "        vertical-align: top;\n",
              "    }\n",
              "\n",
              "    .dataframe thead th {\n",
              "        text-align: right;\n",
              "    }\n",
              "</style>\n",
              "<table border=\"1\" class=\"dataframe\">\n",
              "  <thead>\n",
              "    <tr style=\"text-align: right;\">\n",
              "      <th></th>\n",
              "      <th>budget</th>\n",
              "      <th>genres</th>\n",
              "      <th>homepage</th>\n",
              "      <th>id</th>\n",
              "      <th>keywords</th>\n",
              "      <th>original_language</th>\n",
              "      <th>original_title</th>\n",
              "      <th>overview</th>\n",
              "      <th>popularity</th>\n",
              "      <th>production_companies</th>\n",
              "      <th>production_countries</th>\n",
              "      <th>release_date</th>\n",
              "      <th>revenue</th>\n",
              "      <th>runtime</th>\n",
              "      <th>spoken_languages</th>\n",
              "      <th>status</th>\n",
              "      <th>tagline</th>\n",
              "      <th>title</th>\n",
              "      <th>vote_average</th>\n",
              "      <th>vote_count</th>\n",
              "    </tr>\n",
              "  </thead>\n",
              "  <tbody>\n",
              "    <tr>\n",
              "      <th>4553</th>\n",
              "      <td>0</td>\n",
              "      <td>[]</td>\n",
              "      <td>NaN</td>\n",
              "      <td>380097</td>\n",
              "      <td>[]</td>\n",
              "      <td>en</td>\n",
              "      <td>America Is Still the Place</td>\n",
              "      <td>1971 post civil rights San Francisco seemed li...</td>\n",
              "      <td>0.0</td>\n",
              "      <td>[]</td>\n",
              "      <td>[]</td>\n",
              "      <td>NaN</td>\n",
              "      <td>0</td>\n",
              "      <td>0.0</td>\n",
              "      <td>[]</td>\n",
              "      <td>Released</td>\n",
              "      <td>NaN</td>\n",
              "      <td>America Is Still the Place</td>\n",
              "      <td>0.0</td>\n",
              "      <td>0</td>\n",
              "    </tr>\n",
              "  </tbody>\n",
              "</table>\n",
              "</div>"
            ],
            "text/plain": [
              "      budget genres  ... vote_average  vote_count\n",
              "4553       0     []  ...          0.0           0\n",
              "\n",
              "[1 rows x 20 columns]"
            ]
          },
          "metadata": {
            "tags": []
          },
          "execution_count": 12
        }
      ]
    },
    {
      "cell_type": "code",
      "metadata": {
        "colab": {
          "base_uri": "https://localhost:8080/",
          "height": 912
        },
        "id": "JVlIju1jRINJ",
        "outputId": "c1b1e44c-ffb5-44cd-a6f9-20790dd58453"
      },
      "source": [
        "df[df.tagline.isnull()] # Check missing values of tagline feature"
      ],
      "execution_count": null,
      "outputs": [
        {
          "output_type": "execute_result",
          "data": {
            "text/html": [
              "<div>\n",
              "<style scoped>\n",
              "    .dataframe tbody tr th:only-of-type {\n",
              "        vertical-align: middle;\n",
              "    }\n",
              "\n",
              "    .dataframe tbody tr th {\n",
              "        vertical-align: top;\n",
              "    }\n",
              "\n",
              "    .dataframe thead th {\n",
              "        text-align: right;\n",
              "    }\n",
              "</style>\n",
              "<table border=\"1\" class=\"dataframe\">\n",
              "  <thead>\n",
              "    <tr style=\"text-align: right;\">\n",
              "      <th></th>\n",
              "      <th>budget</th>\n",
              "      <th>genres</th>\n",
              "      <th>homepage</th>\n",
              "      <th>id</th>\n",
              "      <th>keywords</th>\n",
              "      <th>original_language</th>\n",
              "      <th>original_title</th>\n",
              "      <th>overview</th>\n",
              "      <th>popularity</th>\n",
              "      <th>production_companies</th>\n",
              "      <th>production_countries</th>\n",
              "      <th>release_date</th>\n",
              "      <th>revenue</th>\n",
              "      <th>runtime</th>\n",
              "      <th>spoken_languages</th>\n",
              "      <th>status</th>\n",
              "      <th>tagline</th>\n",
              "      <th>title</th>\n",
              "      <th>vote_average</th>\n",
              "      <th>vote_count</th>\n",
              "    </tr>\n",
              "  </thead>\n",
              "  <tbody>\n",
              "    <tr>\n",
              "      <th>10</th>\n",
              "      <td>270000000</td>\n",
              "      <td>[{\"id\": 12, \"name\": \"Adventure\"}, {\"id\": 14, \"...</td>\n",
              "      <td>http://www.superman.com</td>\n",
              "      <td>1452</td>\n",
              "      <td>[{\"id\": 83, \"name\": \"saving the world\"}, {\"id\"...</td>\n",
              "      <td>en</td>\n",
              "      <td>Superman Returns</td>\n",
              "      <td>Superman returns to discover his 5-year absenc...</td>\n",
              "      <td>57.925623</td>\n",
              "      <td>[{\"name\": \"DC Comics\", \"id\": 429}, {\"name\": \"L...</td>\n",
              "      <td>[{\"iso_3166_1\": \"US\", \"name\": \"United States o...</td>\n",
              "      <td>2006-06-28</td>\n",
              "      <td>391081192</td>\n",
              "      <td>154.0</td>\n",
              "      <td>[{\"iso_639_1\": \"en\", \"name\": \"English\"}, {\"iso...</td>\n",
              "      <td>Released</td>\n",
              "      <td>NaN</td>\n",
              "      <td>Superman Returns</td>\n",
              "      <td>5.4</td>\n",
              "      <td>1400</td>\n",
              "    </tr>\n",
              "    <tr>\n",
              "      <th>56</th>\n",
              "      <td>185000000</td>\n",
              "      <td>[{\"id\": 28, \"name\": \"Action\"}, {\"id\": 12, \"nam...</td>\n",
              "      <td>http://www.startrekmovie.com/</td>\n",
              "      <td>188927</td>\n",
              "      <td>[{\"id\": 9663, \"name\": \"sequel\"}, {\"id\": 9743, ...</td>\n",
              "      <td>en</td>\n",
              "      <td>Star Trek Beyond</td>\n",
              "      <td>The USS Enterprise crew explores the furthest ...</td>\n",
              "      <td>65.352913</td>\n",
              "      <td>[{\"name\": \"Paramount Pictures\", \"id\": 4}, {\"na...</td>\n",
              "      <td>[{\"iso_3166_1\": \"US\", \"name\": \"United States o...</td>\n",
              "      <td>2016-07-07</td>\n",
              "      <td>343471816</td>\n",
              "      <td>122.0</td>\n",
              "      <td>[{\"iso_639_1\": \"en\", \"name\": \"English\"}]</td>\n",
              "      <td>Released</td>\n",
              "      <td>NaN</td>\n",
              "      <td>Star Trek Beyond</td>\n",
              "      <td>6.6</td>\n",
              "      <td>2568</td>\n",
              "    </tr>\n",
              "    <tr>\n",
              "      <th>66</th>\n",
              "      <td>175000000</td>\n",
              "      <td>[{\"id\": 16, \"name\": \"Animation\"}, {\"id\": 35, \"...</td>\n",
              "      <td>http://disney.go.com/disneypictures/up/</td>\n",
              "      <td>14160</td>\n",
              "      <td>[{\"id\": 965, \"name\": \"age difference\"}, {\"id\":...</td>\n",
              "      <td>en</td>\n",
              "      <td>Up</td>\n",
              "      <td>Carl Fredricksen spent his entire life dreamin...</td>\n",
              "      <td>92.201962</td>\n",
              "      <td>[{\"name\": \"Pixar Animation Studios\", \"id\": 3}]</td>\n",
              "      <td>[{\"iso_3166_1\": \"US\", \"name\": \"United States o...</td>\n",
              "      <td>2009-05-13</td>\n",
              "      <td>735099082</td>\n",
              "      <td>96.0</td>\n",
              "      <td>[{\"iso_639_1\": \"en\", \"name\": \"English\"}]</td>\n",
              "      <td>Released</td>\n",
              "      <td>NaN</td>\n",
              "      <td>Up</td>\n",
              "      <td>7.7</td>\n",
              "      <td>6870</td>\n",
              "    </tr>\n",
              "    <tr>\n",
              "      <th>78</th>\n",
              "      <td>175000000</td>\n",
              "      <td>[{\"id\": 10751, \"name\": \"Family\"}, {\"id\": 12, \"...</td>\n",
              "      <td>http://movies.disney.com/the-jungle-book-2016</td>\n",
              "      <td>278927</td>\n",
              "      <td>[{\"id\": 818, \"name\": \"based on novel\"}, {\"id\":...</td>\n",
              "      <td>en</td>\n",
              "      <td>The Jungle Book</td>\n",
              "      <td>After a threat from the tiger Shere Khan force...</td>\n",
              "      <td>94.199316</td>\n",
              "      <td>[{\"name\": \"Walt Disney Pictures\", \"id\": 2}, {\"...</td>\n",
              "      <td>[{\"iso_3166_1\": \"GB\", \"name\": \"United Kingdom\"...</td>\n",
              "      <td>2016-04-07</td>\n",
              "      <td>966550600</td>\n",
              "      <td>106.0</td>\n",
              "      <td>[{\"iso_639_1\": \"en\", \"name\": \"English\"}]</td>\n",
              "      <td>Released</td>\n",
              "      <td>NaN</td>\n",
              "      <td>The Jungle Book</td>\n",
              "      <td>6.7</td>\n",
              "      <td>2892</td>\n",
              "    </tr>\n",
              "    <tr>\n",
              "      <th>128</th>\n",
              "      <td>150000000</td>\n",
              "      <td>[{\"id\": 53, \"name\": \"Thriller\"}, {\"id\": 9648, ...</td>\n",
              "      <td>http://www.angelsanddemons.com/</td>\n",
              "      <td>13448</td>\n",
              "      <td>[{\"id\": 588, \"name\": \"rome\"}, {\"id\": 716, \"nam...</td>\n",
              "      <td>en</td>\n",
              "      <td>Angels &amp; Demons</td>\n",
              "      <td>Harvard symbologist Robert Langdon investigate...</td>\n",
              "      <td>67.447636</td>\n",
              "      <td>[{\"name\": \"Columbia Pictures\", \"id\": 5}, {\"nam...</td>\n",
              "      <td>[{\"iso_3166_1\": \"IT\", \"name\": \"Italy\"}, {\"iso_...</td>\n",
              "      <td>2009-05-13</td>\n",
              "      <td>356613439</td>\n",
              "      <td>138.0</td>\n",
              "      <td>[{\"iso_639_1\": \"en\", \"name\": \"English\"}, {\"iso...</td>\n",
              "      <td>Released</td>\n",
              "      <td>NaN</td>\n",
              "      <td>Angels &amp; Demons</td>\n",
              "      <td>6.5</td>\n",
              "      <td>2129</td>\n",
              "    </tr>\n",
              "    <tr>\n",
              "      <th>...</th>\n",
              "      <td>...</td>\n",
              "      <td>...</td>\n",
              "      <td>...</td>\n",
              "      <td>...</td>\n",
              "      <td>...</td>\n",
              "      <td>...</td>\n",
              "      <td>...</td>\n",
              "      <td>...</td>\n",
              "      <td>...</td>\n",
              "      <td>...</td>\n",
              "      <td>...</td>\n",
              "      <td>...</td>\n",
              "      <td>...</td>\n",
              "      <td>...</td>\n",
              "      <td>...</td>\n",
              "      <td>...</td>\n",
              "      <td>...</td>\n",
              "      <td>...</td>\n",
              "      <td>...</td>\n",
              "      <td>...</td>\n",
              "    </tr>\n",
              "    <tr>\n",
              "      <th>4790</th>\n",
              "      <td>0</td>\n",
              "      <td>[{\"id\": 18, \"name\": \"Drama\"}, {\"id\": 10769, \"n...</td>\n",
              "      <td>NaN</td>\n",
              "      <td>13898</td>\n",
              "      <td>[]</td>\n",
              "      <td>fa</td>\n",
              "      <td>دایره</td>\n",
              "      <td>Various women struggle to function in the oppr...</td>\n",
              "      <td>1.193779</td>\n",
              "      <td>[{\"name\": \"Jafar Panahi Film Productions\", \"id...</td>\n",
              "      <td>[{\"iso_3166_1\": \"IR\", \"name\": \"Iran\"}]</td>\n",
              "      <td>2000-09-08</td>\n",
              "      <td>0</td>\n",
              "      <td>90.0</td>\n",
              "      <td>[{\"iso_639_1\": \"fa\", \"name\": \"\\u0641\\u0627\\u06...</td>\n",
              "      <td>Released</td>\n",
              "      <td>NaN</td>\n",
              "      <td>The Circle</td>\n",
              "      <td>6.6</td>\n",
              "      <td>17</td>\n",
              "    </tr>\n",
              "    <tr>\n",
              "      <th>4794</th>\n",
              "      <td>0</td>\n",
              "      <td>[{\"id\": 53, \"name\": \"Thriller\"}, {\"id\": 27, \"n...</td>\n",
              "      <td>NaN</td>\n",
              "      <td>286939</td>\n",
              "      <td>[]</td>\n",
              "      <td>en</td>\n",
              "      <td>Sanctuary: Quite a Conundrum</td>\n",
              "      <td>It should have been just a normal day of sex, ...</td>\n",
              "      <td>0.166513</td>\n",
              "      <td>[{\"name\": \"Gold Lion Films\", \"id\": 37870}, {\"n...</td>\n",
              "      <td>[{\"iso_3166_1\": \"US\", \"name\": \"United States o...</td>\n",
              "      <td>2012-01-20</td>\n",
              "      <td>0</td>\n",
              "      <td>82.0</td>\n",
              "      <td>[{\"iso_639_1\": \"en\", \"name\": \"English\"}]</td>\n",
              "      <td>Released</td>\n",
              "      <td>NaN</td>\n",
              "      <td>Sanctuary: Quite a Conundrum</td>\n",
              "      <td>0.0</td>\n",
              "      <td>0</td>\n",
              "    </tr>\n",
              "    <tr>\n",
              "      <th>4797</th>\n",
              "      <td>0</td>\n",
              "      <td>[{\"id\": 10769, \"name\": \"Foreign\"}, {\"id\": 53, ...</td>\n",
              "      <td>NaN</td>\n",
              "      <td>67238</td>\n",
              "      <td>[]</td>\n",
              "      <td>en</td>\n",
              "      <td>Cavite</td>\n",
              "      <td>Adam, a security guard, travels from Californi...</td>\n",
              "      <td>0.022173</td>\n",
              "      <td>[]</td>\n",
              "      <td>[]</td>\n",
              "      <td>2005-03-12</td>\n",
              "      <td>0</td>\n",
              "      <td>80.0</td>\n",
              "      <td>[]</td>\n",
              "      <td>Released</td>\n",
              "      <td>NaN</td>\n",
              "      <td>Cavite</td>\n",
              "      <td>7.5</td>\n",
              "      <td>2</td>\n",
              "    </tr>\n",
              "    <tr>\n",
              "      <th>4800</th>\n",
              "      <td>0</td>\n",
              "      <td>[{\"id\": 35, \"name\": \"Comedy\"}, {\"id\": 18, \"nam...</td>\n",
              "      <td>http://www.hallmarkchannel.com/signedsealeddel...</td>\n",
              "      <td>231617</td>\n",
              "      <td>[{\"id\": 248, \"name\": \"date\"}, {\"id\": 699, \"nam...</td>\n",
              "      <td>en</td>\n",
              "      <td>Signed, Sealed, Delivered</td>\n",
              "      <td>\"Signed, Sealed, Delivered\" introduces a dedic...</td>\n",
              "      <td>1.444476</td>\n",
              "      <td>[{\"name\": \"Front Street Pictures\", \"id\": 3958}...</td>\n",
              "      <td>[{\"iso_3166_1\": \"US\", \"name\": \"United States o...</td>\n",
              "      <td>2013-10-13</td>\n",
              "      <td>0</td>\n",
              "      <td>120.0</td>\n",
              "      <td>[{\"iso_639_1\": \"en\", \"name\": \"English\"}]</td>\n",
              "      <td>Released</td>\n",
              "      <td>NaN</td>\n",
              "      <td>Signed, Sealed, Delivered</td>\n",
              "      <td>7.0</td>\n",
              "      <td>6</td>\n",
              "    </tr>\n",
              "    <tr>\n",
              "      <th>4802</th>\n",
              "      <td>0</td>\n",
              "      <td>[{\"id\": 99, \"name\": \"Documentary\"}]</td>\n",
              "      <td>NaN</td>\n",
              "      <td>25975</td>\n",
              "      <td>[{\"id\": 1523, \"name\": \"obsession\"}, {\"id\": 224...</td>\n",
              "      <td>en</td>\n",
              "      <td>My Date with Drew</td>\n",
              "      <td>Ever since the second grade when he first saw ...</td>\n",
              "      <td>1.929883</td>\n",
              "      <td>[{\"name\": \"rusty bear entertainment\", \"id\": 87...</td>\n",
              "      <td>[{\"iso_3166_1\": \"US\", \"name\": \"United States o...</td>\n",
              "      <td>2005-08-05</td>\n",
              "      <td>0</td>\n",
              "      <td>90.0</td>\n",
              "      <td>[{\"iso_639_1\": \"en\", \"name\": \"English\"}]</td>\n",
              "      <td>Released</td>\n",
              "      <td>NaN</td>\n",
              "      <td>My Date with Drew</td>\n",
              "      <td>6.3</td>\n",
              "      <td>16</td>\n",
              "    </tr>\n",
              "  </tbody>\n",
              "</table>\n",
              "<p>844 rows × 20 columns</p>\n",
              "</div>"
            ],
            "text/plain": [
              "         budget  ... vote_count\n",
              "10    270000000  ...       1400\n",
              "56    185000000  ...       2568\n",
              "66    175000000  ...       6870\n",
              "78    175000000  ...       2892\n",
              "128   150000000  ...       2129\n",
              "...         ...  ...        ...\n",
              "4790          0  ...         17\n",
              "4794          0  ...          0\n",
              "4797          0  ...          2\n",
              "4800          0  ...          6\n",
              "4802          0  ...         16\n",
              "\n",
              "[844 rows x 20 columns]"
            ]
          },
          "metadata": {
            "tags": []
          },
          "execution_count": 13
        }
      ]
    },
    {
      "cell_type": "markdown",
      "metadata": {
        "id": "0aLq4JzER2U3"
      },
      "source": [
        "> Evaluate each data and how to process each feature base on above tables\n",
        "\n",
        "- runtime: \n",
        "> + Missing values: 2/4803.\n",
        "> + Basic statistics index: Mean 106.87, Std 22.61, Median 103.\n",
        "> + Solution: Because the values 25% and 75% are not significantly different from the median and the number of missing is small, **we replace NaN with the Mean value = 106.87**.\n",
        "- homepage: \n",
        "> + Missing values: 3091/4803.\n",
        "> + Basic statistics index: The number of missing values is very large.\n",
        "> + Solution: These values have no special relationship with other columns, feature is not too important for the purpose of this report, so we **replace NaN by an empty String**. \n",
        "- overview: \n",
        "> + Missing values: 3/4803. \n",
        "> + Basic statistics index: The number of missing values is very small.\n",
        "> + Solution: These values have no special relationship with other columns, feature is not too important for the purpose of this report, so we **delete these 3 rows**.\n",
        "- release_date: \n",
        "> + Missing values: 1/4803.  \n",
        "> + Basic statistics index: The number of missing values is very small.\n",
        "> + Solution: These values have no special relationship with other columns, feature is not too important for the purpose of this report, so we **delete 1 row**. \n",
        "- tagline: \n",
        "> + Missing values: 844/4803.  \n",
        "> + Basic statistics index: The number of missing value is quite significant.\n",
        "> + Solution: Feature is not too important for the purpose of this report, we **replace NaN by an empty String**.\n",
        "\n",
        "> **Below is the code for the above analysis**"
      ]
    },
    {
      "cell_type": "code",
      "metadata": {
        "id": "qPZ5-NApR-OB"
      },
      "source": [
        "df.runtime.fillna(106.87, inplace=True)  # replace NaN with the Mean value = 106.87\n",
        "df.homepage.fillna('', inplace=True) # replace NaN by an empty String\n",
        "df.drop(df[df.overview.isnull()].index, inplace=True) # delete these 3 rows\n",
        "df.drop(df[df.release_date.isnull()].index, inplace=True) #  delete 1 row\n",
        "df.tagline.fillna('', inplace=True) # replace NaN by an empty String"
      ],
      "execution_count": null,
      "outputs": []
    },
    {
      "cell_type": "markdown",
      "metadata": {
        "id": "wu9JJez9B7VE"
      },
      "source": [
        "###  2.2 Countries and the influence"
      ]
    },
    {
      "cell_type": "code",
      "metadata": {
        "id": "tk-66bfSdHxc",
        "colab": {
          "base_uri": "https://localhost:8080/"
        },
        "outputId": "b9ba306a-0cfd-4a80-f37a-2e6bb8b2c6a1"
      },
      "source": [
        "# Function transform json data to list\n",
        "def dict_lists(dataFrame,src_column):\n",
        "    new_vals = []\n",
        "    for value in dataFrame[src_column]:\n",
        "        if value == value:\n",
        "            # getting list of substrings\n",
        "            jsons_list = re.findall('{.*?}', value)\n",
        "            # getting dict_list for this value\n",
        "            dicts_list = []\n",
        "            for json_val in jsons_list:\n",
        "                dicts_list.append(json.loads(json_val))\n",
        "            new_vals.append(dicts_list)\n",
        "        else:\n",
        "            new_vals.append(np.nan)\n",
        "    return new_vals\n",
        "# List of dictionary of production_countries column\n",
        "production_countries_list= dict_lists(df, \"production_countries\") \n",
        "\n",
        "list_country = []\n",
        "for sample_country in production_countries_list:\n",
        "    for i in range(len(sample_country)):\n",
        "        if sample_country[i]['name'] not in list_country:\n",
        "            list_country.append(sample_country[i]['name'])\n",
        "print(list_country) # Country in tmb 5000 data          \n",
        "\n",
        "count_country = [0]*len(list_country)\n",
        "for sample_country in production_countries_list:\n",
        "    for i in range(len(sample_country)):\n",
        "        for country_index in range(len(list_country)):\n",
        "            if sample_country[i]['name'] == list_country[country_index]:\n",
        "                count_country[country_index] += 1\n",
        "print(count_country) # Number of movies in each country corresponds to list_country"
      ],
      "execution_count": null,
      "outputs": [
        {
          "output_type": "stream",
          "text": [
            "['United States of America', 'United Kingdom', 'Jamaica', 'Bahamas', 'Dominica', 'Czech Republic', 'Poland', 'Slovenia', 'New Zealand', 'Germany', 'China', 'Canada', 'Italy', 'Japan', 'Malta', 'Australia', 'France', 'Belgium', 'India', 'Netherlands', 'Spain', 'United Arab Emirates', 'Hong Kong', 'Taiwan', 'Ireland', 'Morocco', 'Hungary', 'Singapore', 'Norway', 'Sweden', 'South Africa', 'Russia', 'Romania', 'Mexico', 'Monaco', 'Switzerland', 'Pakistan', 'Malaysia', 'Finland', 'Iceland', 'Denmark', 'Tunisia', 'Philippines', 'Bulgaria', 'South Korea', 'Brazil', 'Peru', 'Luxembourg', 'Bosnia and Herzegovina', 'Kazakhstan', 'Portugal', 'Aruba', 'Libyan Arab Jamahiriya', 'Serbia', 'Ukraine', 'Chile', 'Argentina', 'Panama', 'Austria', 'Greece', 'Lithuania', 'Cambodia', 'Thailand', 'Slovakia', 'Israel', 'Fiji', 'Serbia and Montenegro', 'Turkey', 'Nigeria', 'Cyprus', 'Jordan', 'Bolivia', 'Ecuador', 'Colombia', 'Egypt', 'Bhutan', 'Lebanon', 'Kyrgyz Republic', 'Algeria', 'Indonesia', 'Guyana', 'Iran', 'Guadaloupe', 'Afghanistan', 'Angola', 'Dominican Republic', 'Cameroon', 'Kenya']\n",
            "[3956, 635, 2, 4, 1, 24, 6, 2, 28, 324, 59, 261, 71, 58, 4, 110, 306, 25, 54, 18, 71, 14, 48, 5, 37, 4, 13, 2, 14, 19, 20, 19, 12, 30, 1, 19, 3, 2, 5, 6, 20, 1, 1, 4, 18, 13, 2, 11, 1, 2, 1, 1, 1, 1, 1, 2, 9, 1, 6, 3, 1, 1, 6, 2, 6, 1, 1, 1, 1, 1, 1, 1, 1, 2, 1, 1, 1, 1, 1, 1, 1, 4, 1, 1, 1, 1, 1, 1]\n"
          ],
          "name": "stdout"
        }
      ]
    },
    {
      "cell_type": "markdown",
      "metadata": {
        "id": "eD7eyo-oA5gx"
      },
      "source": [
        "> Looking at the two lists, we see that the number of countries in the data is 88 countries with the number of participating films focusing on only a few certain countries, so we choose about 10 countries the most to survey the influence."
      ]
    },
    {
      "cell_type": "code",
      "metadata": {
        "colab": {
          "base_uri": "https://localhost:8080/"
        },
        "id": "BP2zpth7MFif",
        "outputId": "bbeaecfa-2e04-4bee-f8dc-1e4a6c7937dc"
      },
      "source": [
        "# Dictionary stores the number of movies of 10 countries\n",
        "countries_10 = {}\n",
        "for i in range(10):\n",
        "      max_index = count_country.index(max(count_country))\n",
        "      countries_10[list_country[max_index]] = max(count_country)\n",
        "      count_country[max_index] = 0\n",
        "print(countries_10) # 10 countries have the most movies"
      ],
      "execution_count": null,
      "outputs": [
        {
          "output_type": "stream",
          "text": [
            "{'United States of America': 3956, 'United Kingdom': 635, 'Germany': 324, 'France': 306, 'Canada': 261, 'Australia': 110, 'Italy': 71, 'Spain': 71, 'China': 59, 'Japan': 58}\n"
          ],
          "name": "stdout"
        }
      ]
    },
    {
      "cell_type": "code",
      "metadata": {
        "colab": {
          "base_uri": "https://localhost:8080/",
          "height": 318
        },
        "id": "9LYmWBhjwBT7",
        "outputId": "82f29e24-76f2-4907-a0c9-c475f2493e06"
      },
      "source": [
        "# Create new dictionary to visualize\n",
        "new_dict = {'Area (Country)' : countries_10.keys(), 'Number of movies': countries_10.values()}\n",
        "new_frame = pd.DataFrame(data=new_dict)\n",
        "sns.set(style=\"whitegrid\")\n",
        "Barplot_country = sns.barplot(y=\"Area (Country)\", x = \"Number of movies\", data=new_frame)\n",
        "Barplot_country.set_title('Distribution of number of movies')"
      ],
      "execution_count": null,
      "outputs": [
        {
          "output_type": "execute_result",
          "data": {
            "text/plain": [
              "Text(0.5, 1.0, 'Distribution of number of movies')"
            ]
          },
          "metadata": {
            "tags": []
          },
          "execution_count": 35
        },
        {
          "output_type": "display_data",
          "data": {
            "image/png": "[encoded data removed]",
            "text/plain": [
              "<Figure size 432x288 with 1 Axes>"
            ]
          },
          "metadata": {
            "tags": []
          }
        }
      ]
    },
    {
      "cell_type": "markdown",
      "metadata": {
        "id": "k__eSnTHSDZz"
      },
      "source": [
        "> From the chart, United States of America have the most number of movies, more than 6 times higher than United Kingdom at the second rank.\n",
        "\n",
        "> Conclusion: **United States of America has the greatest influence on film revenue.**\n",
        "### 2.3  Genres and the influence"
      ]
    },
    {
      "cell_type": "code",
      "metadata": {
        "id": "Zdb_DhIjwEfu"
      },
      "source": [
        "# Add column of genres of movie as one hot coding\n",
        "def json_to_one_hot_coding(df, column):\n",
        "    for row in range(len(df)+1):\n",
        "        try: \n",
        "            row_sample = df[column].loc[row]\n",
        "            series = pd.read_json(row_sample).name\n",
        "            for j in range(len(series)):\n",
        "                cell = series[j]\n",
        "                df.loc[row, cell] = 1\n",
        "        except AttributeError:\n",
        "            continue\n",
        "        except KeyError:\n",
        "            continue\n",
        "           \n",
        "json_to_one_hot_coding(df,\"genres\")\n",
        "\n",
        "# replace NaN to 0 and convert column to int type\n",
        "for i in df.columns[20:41]:\n",
        "    df[i].fillna(0, inplace=True)\n",
        "    df[i] = df[i].astype(np.int8)"
      ],
      "execution_count": null,
      "outputs": []
    },
    {
      "cell_type": "code",
      "metadata": {
        "colab": {
          "base_uri": "https://localhost:8080/",
          "height": 335
        },
        "id": "hpf1ZfPxwNXZ",
        "outputId": "61f00344-a327-4383-fdb1-432b343149e1"
      },
      "source": [
        "df.head(10)"
      ],
      "execution_count": null,
      "outputs": [
        {
          "output_type": "execute_result",
          "data": {
            "text/html": [
              "<div>\n",
              "<style scoped>\n",
              "    .dataframe tbody tr th:only-of-type {\n",
              "        vertical-align: middle;\n",
              "    }\n",
              "\n",
              "    .dataframe tbody tr th {\n",
              "        vertical-align: top;\n",
              "    }\n",
              "\n",
              "    .dataframe thead th {\n",
              "        text-align: right;\n",
              "    }\n",
              "</style>\n",
              "<table border=\"1\" class=\"dataframe\">\n",
              "  <thead>\n",
              "    <tr style=\"text-align: right;\">\n",
              "      <th></th>\n",
              "      <th>budget</th>\n",
              "      <th>genres</th>\n",
              "      <th>homepage</th>\n",
              "      <th>id</th>\n",
              "      <th>keywords</th>\n",
              "      <th>original_language</th>\n",
              "      <th>original_title</th>\n",
              "      <th>overview</th>\n",
              "      <th>popularity</th>\n",
              "      <th>production_companies</th>\n",
              "      <th>production_countries</th>\n",
              "      <th>release_date</th>\n",
              "      <th>revenue</th>\n",
              "      <th>runtime</th>\n",
              "      <th>spoken_languages</th>\n",
              "      <th>status</th>\n",
              "      <th>tagline</th>\n",
              "      <th>title</th>\n",
              "      <th>vote_average</th>\n",
              "      <th>vote_count</th>\n",
              "      <th>Action</th>\n",
              "      <th>Adventure</th>\n",
              "      <th>Fantasy</th>\n",
              "      <th>Science Fiction</th>\n",
              "      <th>Crime</th>\n",
              "      <th>Drama</th>\n",
              "      <th>Thriller</th>\n",
              "      <th>Animation</th>\n",
              "      <th>Family</th>\n",
              "      <th>Western</th>\n",
              "      <th>Comedy</th>\n",
              "      <th>Romance</th>\n",
              "      <th>Horror</th>\n",
              "      <th>Mystery</th>\n",
              "      <th>History</th>\n",
              "      <th>War</th>\n",
              "      <th>Music</th>\n",
              "      <th>Documentary</th>\n",
              "      <th>Foreign</th>\n",
              "      <th>TV Movie</th>\n",
              "    </tr>\n",
              "  </thead>\n",
              "  <tbody>\n",
              "    <tr>\n",
              "      <th>0</th>\n",
              "      <td>237000000</td>\n",
              "      <td>[{\"id\": 28, \"name\": \"Action\"}, {\"id\": 12, \"nam...</td>\n",
              "      <td>http://www.avatarmovie.com/</td>\n",
              "      <td>19995</td>\n",
              "      <td>[{\"id\": 1463, \"name\": \"culture clash\"}, {\"id\":...</td>\n",
              "      <td>en</td>\n",
              "      <td>Avatar</td>\n",
              "      <td>In the 22nd century, a paraplegic Marine is di...</td>\n",
              "      <td>150.437577</td>\n",
              "      <td>[{\"name\": \"Ingenious Film Partners\", \"id\": 289...</td>\n",
              "      <td>[{\"iso_3166_1\": \"US\", \"name\": \"United States o...</td>\n",
              "      <td>2009-12-10</td>\n",
              "      <td>2787965087</td>\n",
              "      <td>162.0</td>\n",
              "      <td>[{\"iso_639_1\": \"en\", \"name\": \"English\"}, {\"iso...</td>\n",
              "      <td>Released</td>\n",
              "      <td>Enter the World of Pandora.</td>\n",
              "      <td>Avatar</td>\n",
              "      <td>7.2</td>\n",
              "      <td>11800</td>\n",
              "      <td>1.0</td>\n",
              "      <td>1.0</td>\n",
              "      <td>1.0</td>\n",
              "      <td>1.0</td>\n",
              "      <td>NaN</td>\n",
              "      <td>NaN</td>\n",
              "      <td>NaN</td>\n",
              "      <td>NaN</td>\n",
              "      <td>NaN</td>\n",
              "      <td>NaN</td>\n",
              "      <td>NaN</td>\n",
              "      <td>NaN</td>\n",
              "      <td>NaN</td>\n",
              "      <td>NaN</td>\n",
              "      <td>NaN</td>\n",
              "      <td>NaN</td>\n",
              "      <td>NaN</td>\n",
              "      <td>NaN</td>\n",
              "      <td>NaN</td>\n",
              "      <td>NaN</td>\n",
              "    </tr>\n",
              "    <tr>\n",
              "      <th>1</th>\n",
              "      <td>300000000</td>\n",
              "      <td>[{\"id\": 12, \"name\": \"Adventure\"}, {\"id\": 14, \"...</td>\n",
              "      <td>http://disney.go.com/disneypictures/pirates/</td>\n",
              "      <td>285</td>\n",
              "      <td>[{\"id\": 270, \"name\": \"ocean\"}, {\"id\": 726, \"na...</td>\n",
              "      <td>en</td>\n",
              "      <td>Pirates of the Caribbean: At World's End</td>\n",
              "      <td>Captain Barbossa, long believed to be dead, ha...</td>\n",
              "      <td>139.082615</td>\n",
              "      <td>[{\"name\": \"Walt Disney Pictures\", \"id\": 2}, {\"...</td>\n",
              "      <td>[{\"iso_3166_1\": \"US\", \"name\": \"United States o...</td>\n",
              "      <td>2007-05-19</td>\n",
              "      <td>961000000</td>\n",
              "      <td>169.0</td>\n",
              "      <td>[{\"iso_639_1\": \"en\", \"name\": \"English\"}]</td>\n",
              "      <td>Released</td>\n",
              "      <td>At the end of the world, the adventure begins.</td>\n",
              "      <td>Pirates of the Caribbean: At World's End</td>\n",
              "      <td>6.9</td>\n",
              "      <td>4500</td>\n",
              "      <td>1.0</td>\n",
              "      <td>1.0</td>\n",
              "      <td>1.0</td>\n",
              "      <td>NaN</td>\n",
              "      <td>NaN</td>\n",
              "      <td>NaN</td>\n",
              "      <td>NaN</td>\n",
              "      <td>NaN</td>\n",
              "      <td>NaN</td>\n",
              "      <td>NaN</td>\n",
              "      <td>NaN</td>\n",
              "      <td>NaN</td>\n",
              "      <td>NaN</td>\n",
              "      <td>NaN</td>\n",
              "      <td>NaN</td>\n",
              "      <td>NaN</td>\n",
              "      <td>NaN</td>\n",
              "      <td>NaN</td>\n",
              "      <td>NaN</td>\n",
              "      <td>NaN</td>\n",
              "    </tr>\n",
              "  </tbody>\n",
              "</table>\n",
              "</div>"
            ],
            "text/plain": [
              "      budget  ... TV Movie\n",
              "0  237000000  ...      NaN\n",
              "1  300000000  ...      NaN\n",
              "\n",
              "[2 rows x 40 columns]"
            ]
          },
          "metadata": {
            "tags": []
          },
          "execution_count": 37
        }
      ]
    },
    {
      "cell_type": "code",
      "metadata": {
        "colab": {
          "base_uri": "https://localhost:8080/",
          "height": 362
        },
        "id": "3y6y4WFAwP7K",
        "outputId": "52971cb6-582b-4adb-fbc6-1b001513d7de"
      },
      "source": [
        "# create new DataFrame from genres and add 2 columns\n",
        "corr = df.iloc[:,20:41]\n",
        "corr['revenue'] = df.revenue # Add revenue column\n",
        "corr['vote_score'] = df.vote_average # Add vote_score\n",
        "corr = corr.corr()\n",
        "sns.heatmap(corr, \n",
        "            xticklabels=corr.columns.values,\n",
        "            yticklabels=corr.columns.values,\n",
        "            center=0)\n"
      ],
      "execution_count": null,
      "outputs": [
        {
          "output_type": "execute_result",
          "data": {
            "text/plain": [
              "<matplotlib.axes._subplots.AxesSubplot at 0x7f51d133eb90>"
            ]
          },
          "metadata": {
            "tags": []
          },
          "execution_count": 42
        },
        {
          "output_type": "display_data",
          "data": {
            "image/png": "[encoded data removed]",
            "text/plain": [
              "<Figure size 432x288 with 2 Axes>"
            ]
          },
          "metadata": {
            "tags": []
          }
        }
      ]
    },
    {
      "cell_type": "markdown",
      "metadata": {
        "id": "cRIY-W7UhSS8"
      },
      "source": [
        "> Conclusion:\n",
        "\n",
        "> > **Based on the above heatmap we can conclude that the correlation between revenue and vote_score is very low, about 0.2.**\n",
        "\n",
        "> > **The movie with the biggest correlation with revenue was the Adventure genre, about 0.6.**\n",
        "\n",
        "> > **The movie that has the biggest correlation with vote_score is the Drama genre, about 0.4.**"
      ]
    },
    {
      "cell_type": "markdown",
      "metadata": {
        "id": "-8j6UboLiKeh"
      },
      "source": [
        "## **3. Hypothesis testing**\n",
        "\n"
      ]
    },
    {
      "cell_type": "markdown",
      "metadata": {
        "id": "aa_H_eAVVxqu"
      },
      "source": [
        "> ### 3.1 Relationship between Adventure genre & Revenue\n",
        "\n",
        "> The significant level is: $\\alpha = 0.05$. Hypothesis:\n",
        "\n",
        "> > $H_0$ : The Adventure genre affects revenue.\n",
        "\n",
        "> > $H_1$ : There is no relationship between those two."
      ]
    },
    {
      "cell_type": "code",
      "metadata": {
        "colab": {
          "base_uri": "https://localhost:8080/"
        },
        "id": "GoxBIDFHwTfy",
        "outputId": "2ceabf3d-df73-4926-c9dc-5da9028078a8"
      },
      "source": [
        "# Find correlation coefficients and p-value of Adventure genres and revenue\n",
        "stats.pearsonr(df.Adventure, df.revenue)"
      ],
      "execution_count": null,
      "outputs": [
        {
          "output_type": "execute_result",
          "data": {
            "text/plain": [
              "(0.3442779790580045, 1.2802273483999366e-133)"
            ]
          },
          "metadata": {
            "tags": []
          },
          "execution_count": 43
        }
      ]
    },
    {
      "cell_type": "markdown",
      "metadata": {
        "id": "LYdfpEGpkJ-l"
      },
      "source": [
        "> We find that p-value is too small and smaller than $\\alpha$.\n",
        "\n",
        "> So **we reject $H_0$ and accept $H_1$**.\n",
        "\n",
        "> Since Adventure genres has the largest correlation with revenue of all genres, we can conclude that **genres does not affect revenue**."
      ]
    },
    {
      "cell_type": "markdown",
      "metadata": {
        "id": "L8-1O6xLlRHC"
      },
      "source": [
        "> ### 3.2 Relationship between Drama genre & Vote Average\n",
        "\n",
        "> The significant level is: $\\alpha = 0.05$. Hypothesis:\n",
        "\n",
        "> > $ H_0$ = The Drama genre affects vote average\n",
        "\n",
        "> > $ H_1$ = There is no relationship between those two"
      ]
    },
    {
      "cell_type": "code",
      "metadata": {
        "colab": {
          "base_uri": "https://localhost:8080/"
        },
        "id": "YXmtIDIWlPo0",
        "outputId": "76d63413-fd8b-42d2-9062-0d22aa7c68ea"
      },
      "source": [
        "# Find correlation coefficients and p-value of Drama genres and vote_average\n",
        "stats.pearsonr(df.Drama, df.vote_average)"
      ],
      "execution_count": null,
      "outputs": [
        {
          "output_type": "execute_result",
          "data": {
            "text/plain": [
              "(0.23667240782104537, 4.373629754462493e-62)"
            ]
          },
          "metadata": {
            "tags": []
          },
          "execution_count": 44
        }
      ]
    },
    {
      "cell_type": "markdown",
      "metadata": {
        "id": "vlSSxyB7lqXb"
      },
      "source": [
        "> We find that p-value is too small and smaller than $\\alpha$.\n",
        "\n",
        "> So **we reject $H_0$ and accept $H_1$**.\n",
        "\n",
        "> Since Drama genres has the largest correlation with vote average of all genres, we can conclude that **genres does not affect vote average**.\n",
        "> ### 3.3 The effect of the release date on revenue"
      ]
    },
    {
      "cell_type": "code",
      "metadata": {
        "id": "DWqGEK13wiAs"
      },
      "source": [
        "# Convert y-m-d to m-d:\n",
        "def to_day(date):\n",
        "    y, m, d = str(date)[:10].split(\"-\")\n",
        "    return d\n",
        "\n",
        "# Convert y-m-d to m:\n",
        "def to_month(date):\n",
        "    y, m, d = str(date)[:10].split(\"-\")\n",
        "    return m\n",
        "\n",
        "# Convert to datetime format\n",
        "df.release_date = pd.to_datetime(df.release_date)\n",
        "# Create a new day of the week column\n",
        "df['Day_of_week'] = df.release_date.dt.weekday\n",
        "# Convert day of the week in number to text:\n",
        "day_names = [\"Monday\", \"Tuesday\", \"Wednesday\", \"Thursday\", \"Friday\", \"Saturday\", \"Sunday\"]\n",
        "weekday_dict = {key : day_names[key] for key in range(7)}\n",
        "df['Day_of_week'] = df.Day_of_week.apply(lambda x: weekday_dict[x])\n",
        "\n",
        "df['day'] = df.release_date.apply(to_day)\n",
        "df['month'] = df.release_date.apply(to_month)"
      ],
      "execution_count": null,
      "outputs": []
    },
    {
      "cell_type": "code",
      "metadata": {
        "colab": {
          "base_uri": "https://localhost:8080/",
          "height": 252
        },
        "id": "4Qlg0COowkfY",
        "outputId": "55b77022-55c2-4dc6-de25-04544aa196fe"
      },
      "source": [
        "sum_DOW = df.groupby(\"Day_of_week\").sum() # Group tables by day of the week\n",
        "sum_DOW = sum_DOW.loc[day_names] # Sort by day of the week order\n",
        "\n",
        "explode = (0.1, 0, 0, 0, 0, 0, 0.3) \n",
        "fig1, chart_DOW = plt.subplots()\n",
        "chart_DOW.pie(sum_DOW.revenue, explode=explode, labels=sum_DOW.index, autopct='%1.1f%%',\n",
        "        shadow=True, startangle=90)\n",
        "chart_DOW.axis('equal')  # Equal aspect ratio ensures that pie is drawn as a circle\n",
        "plt.show()"
      ],
      "execution_count": null,
      "outputs": [
        {
          "output_type": "display_data",
          "data": {
            "image/png": "[encoded data removed]",
            "text/plain": [
              "<Figure size 432x288 with 1 Axes>"
            ]
          },
          "metadata": {
            "tags": []
          }
        }
      ]
    },
    {
      "cell_type": "markdown",
      "metadata": {
        "id": "b1ET_7Bd72JZ"
      },
      "source": [
        "> Looking at the chart above, we can see that the biggest revenue are on Wednesday and Friday."
      ]
    },
    {
      "cell_type": "code",
      "metadata": {
        "colab": {
          "base_uri": "https://localhost:8080/",
          "height": 285
        },
        "id": "7EltLD5nwl9x",
        "outputId": "42a9ec8c-54fe-4069-cb0e-8815bf481db9"
      },
      "source": [
        "sum_DOM = df.groupby(\"day\").sum() # Group tables by day of the month\n",
        "sum_DOM['day'] = sum_DOM.index\n",
        "chart_DOM = sns.barplot(y = \"day\", x = \"revenue\", data=sum_DOM)\n"
      ],
      "execution_count": null,
      "outputs": [
        {
          "output_type": "display_data",
          "data": {
            "image/png": "[encoded data removed]",
            "text/plain": [
              "<Figure size 432x288 with 1 Axes>"
            ]
          },
          "metadata": {
            "tags": []
          }
        }
      ]
    },
    {
      "cell_type": "markdown",
      "metadata": {
        "id": "6hetceUyKjUS"
      },
      "source": [
        "> Looking at the chart shows that the movie released on the 25th will have the biggest revenue."
      ]
    },
    {
      "cell_type": "code",
      "metadata": {
        "colab": {
          "base_uri": "https://localhost:8080/",
          "height": 296
        },
        "id": "lYx7TYHQwnnh",
        "outputId": "7ff36b35-696e-40cd-940e-32d1b7938727"
      },
      "source": [
        "month_sum = df.groupby(\"month\").sum()\n",
        "month_sum['month'] = month_sum.index\n",
        "\n",
        "chart_MOY = sns.barplot(x=\"month\", y = \"revenue\", data=month_sum)\n"
      ],
      "execution_count": null,
      "outputs": [
        {
          "output_type": "display_data",
          "data": {
            "image/png": "[encoded data removed]",
            "text/plain": [
              "<Figure size 432x288 with 1 Axes>"
            ]
          },
          "metadata": {
            "tags": []
          }
        }
      ]
    },
    {
      "cell_type": "markdown",
      "metadata": {
        "id": "RgAAiAqWK9PC"
      },
      "source": [
        "> Looking at the chart shows that the movie released in June will have the biggest revenue."
      ]
    },
    {
      "cell_type": "markdown",
      "metadata": {
        "id": "MCktbjeZLTj9"
      },
      "source": [
        "## **4. Conclusion**\n",
        "> Based on the charts and statistical analyzes above, we answer 3 questions in introduction:\n",
        "\n",
        ">> 1.   The area with the most impact on revenue is the United State of America\n",
        "\n",
        ">> 2.   Genres does not affect vote average and revenue.\n",
        "\n",
        ">> 3.   Movies released on Wednesdays and Fridays each week, or 25th of each month, or in June each year will have the highest revenue.\n"
      ]
    }
  ]
}