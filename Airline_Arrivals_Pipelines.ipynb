{
  "cells": [
    {
      "cell_type": "markdown",
      "metadata": {
        "id": "YI8mZHP2X0Qy"
      },
      "source": [
        "#  **TABLE OF CONTENTS**\n",
        "\n",
        "---\n",
        "## **1. Import librabries and data preprocessing**\n",
        "## **2. Apply model with pipelines**\n",
        "> ### 2.1 Hold out\n",
        "> ### 2.2 Naive Bayes Pipeline\n",
        "> ### 2.3 Ensemble Algorithms Pipeline\n",
        "> ### 2.4 Support Vector Machines & K-Nearest Neighbors Pipeline\n",
        "\n"
      ]
    },
    {
      "cell_type": "markdown",
      "metadata": {
        "id": "n-KN6BzAYPV1"
      },
      "source": [
        "\n",
        "\n",
        "---\n",
        "\n",
        "\n",
        "## **1. Import librabries and data preprocessing**\n",
        "\n",
        "> Connect Google Drive to Google Colab and import necessary librabries\n",
        "\n",
        "> Load the data in file csv from Google Drive"
      ]
    },
    {
      "cell_type": "code",
      "execution_count": 5,
      "metadata": {
        "colab": {
          "base_uri": "https://localhost:8080/"
        },
        "id": "7uXrclO4keZF",
        "outputId": "9e5bd1ff-bd10-4bc0-cc7f-4e7736d302af"
      },
      "outputs": [
        {
          "name": "stdout",
          "output_type": "stream",
          "text": [
            "Requirement already satisfied: pipelinehelper in c:\\users\\dell\\anaconda3\\lib\\site-packages (0.7.8)\n",
            "Requirement already satisfied: sklearn in c:\\users\\dell\\anaconda3\\lib\\site-packages (from pipelinehelper) (0.0)\n",
            "Requirement already satisfied: scikit-learn in c:\\users\\dell\\anaconda3\\lib\\site-packages (from sklearn->pipelinehelper) (0.24.2)\n",
            "Requirement already satisfied: joblib>=0.11 in c:\\users\\dell\\anaconda3\\lib\\site-packages (from scikit-learn->sklearn->pipelinehelper) (1.1.0)\n",
            "Requirement already satisfied: threadpoolctl>=2.0.0 in c:\\users\\dell\\anaconda3\\lib\\site-packages (from scikit-learn->sklearn->pipelinehelper) (2.2.0)\n",
            "Requirement already satisfied: scipy>=0.19.1 in c:\\users\\dell\\anaconda3\\lib\\site-packages (from scikit-learn->sklearn->pipelinehelper) (1.7.1)\n",
            "Requirement already satisfied: numpy>=1.13.3 in c:\\users\\dell\\anaconda3\\lib\\site-packages (from scikit-learn->sklearn->pipelinehelper) (1.20.3)\n"
          ]
        }
      ],
      "source": [
        " !pip install pipelinehelper"
      ]
    },
    {
      "cell_type": "code",
      "execution_count": 35,
      "metadata": {
        "id": "NTRgjgD0Pxzj"
      },
      "outputs": [],
      "source": [
        "import pandas as pd # Librabry for table data\n",
        "import numpy as np # Librabry for algebra\n",
        "# Library for visualization\n",
        "import matplotlib.pyplot as plt\n",
        "import seaborn as sns\n",
        "# Librabry sklearn model selection \n",
        "from sklearn.pipeline import Pipeline\n",
        "from pipelinehelper import PipelineHelper\n",
        "from sklearn.preprocessing import StandardScaler,MaxAbsScaler, MinMaxScaler\n",
        "from sklearn.model_selection import train_test_split, cross_val_score, GridSearchCV\n",
        "# Librabry for feature selection\n",
        "from sklearn.decomposition import PCA\n",
        "# Librabry for algorithm\n",
        "from sklearn.svm import SVC\n",
        "from sklearn.tree import DecisionTreeClassifier\n",
        "from sklearn.naive_bayes import GaussianNB, MultinomialNB\n",
        "from sklearn.ensemble import RandomForestClassifier, GradientBoostingClassifier, AdaBoostClassifier\n",
        "from sklearn.neighbors import KNeighborsClassifier\n",
        "from sklearn.metrics import classification_report\n",
        "%matplotlib inline"
      ]
    },
    {
      "cell_type": "code",
      "execution_count": 36,
      "metadata": {
        "colab": {
          "base_uri": "https://localhost:8080/",
          "height": 250
        },
        "id": "JblszE8kP3q0",
        "outputId": "6d7ebc3e-84a9-4277-ad69-7b7031dddb31"
      },
      "outputs": [
        {
          "data": {
            "text/html": [
              "<div>\n",
              "<style scoped>\n",
              "    .dataframe tbody tr th:only-of-type {\n",
              "        vertical-align: middle;\n",
              "    }\n",
              "\n",
              "    .dataframe tbody tr th {\n",
              "        vertical-align: top;\n",
              "    }\n",
              "\n",
              "    .dataframe thead th {\n",
              "        text-align: right;\n",
              "    }\n",
              "</style>\n",
              "<table border=\"1\" class=\"dataframe\">\n",
              "  <thead>\n",
              "    <tr style=\"text-align: right;\">\n",
              "      <th></th>\n",
              "      <th>Unnamed: 0</th>\n",
              "      <th>Month</th>\n",
              "      <th>DayofMonth</th>\n",
              "      <th>DayOfWeek</th>\n",
              "      <th>DepTime</th>\n",
              "      <th>UniqueCarrier</th>\n",
              "      <th>FlightNum</th>\n",
              "      <th>TailNum</th>\n",
              "      <th>ArrDelay</th>\n",
              "      <th>DepDelay</th>\n",
              "      <th>Origin</th>\n",
              "      <th>Dest</th>\n",
              "      <th>Distance</th>\n",
              "      <th>TaxiIn</th>\n",
              "      <th>TaxiOut</th>\n",
              "      <th>Diverted</th>\n",
              "      <th>ArrDelay_categorical</th>\n",
              "    </tr>\n",
              "  </thead>\n",
              "  <tbody>\n",
              "    <tr>\n",
              "      <th>0</th>\n",
              "      <td>0</td>\n",
              "      <td>1</td>\n",
              "      <td>1</td>\n",
              "      <td>1</td>\n",
              "      <td>1232.0</td>\n",
              "      <td>WN</td>\n",
              "      <td>2891</td>\n",
              "      <td>N351</td>\n",
              "      <td>1.0</td>\n",
              "      <td>7.0</td>\n",
              "      <td>SMF</td>\n",
              "      <td>ONT</td>\n",
              "      <td>389</td>\n",
              "      <td>4</td>\n",
              "      <td>11</td>\n",
              "      <td>0</td>\n",
              "      <td>0</td>\n",
              "    </tr>\n",
              "    <tr>\n",
              "      <th>1</th>\n",
              "      <td>1</td>\n",
              "      <td>1</td>\n",
              "      <td>1</td>\n",
              "      <td>1</td>\n",
              "      <td>1918.0</td>\n",
              "      <td>WN</td>\n",
              "      <td>462</td>\n",
              "      <td>N370</td>\n",
              "      <td>8.0</td>\n",
              "      <td>13.0</td>\n",
              "      <td>SMF</td>\n",
              "      <td>PDX</td>\n",
              "      <td>479</td>\n",
              "      <td>5</td>\n",
              "      <td>6</td>\n",
              "      <td>0</td>\n",
              "      <td>0</td>\n",
              "    </tr>\n",
              "    <tr>\n",
              "      <th>2</th>\n",
              "      <td>3</td>\n",
              "      <td>1</td>\n",
              "      <td>1</td>\n",
              "      <td>1</td>\n",
              "      <td>1230.0</td>\n",
              "      <td>WN</td>\n",
              "      <td>1355</td>\n",
              "      <td>N364</td>\n",
              "      <td>26.0</td>\n",
              "      <td>30.0</td>\n",
              "      <td>SMF</td>\n",
              "      <td>PDX</td>\n",
              "      <td>479</td>\n",
              "      <td>3</td>\n",
              "      <td>8</td>\n",
              "      <td>0</td>\n",
              "      <td>0</td>\n",
              "    </tr>\n",
              "    <tr>\n",
              "      <th>3</th>\n",
              "      <td>4</td>\n",
              "      <td>1</td>\n",
              "      <td>1</td>\n",
              "      <td>1</td>\n",
              "      <td>831.0</td>\n",
              "      <td>WN</td>\n",
              "      <td>2278</td>\n",
              "      <td>N480</td>\n",
              "      <td>-3.0</td>\n",
              "      <td>1.0</td>\n",
              "      <td>SMF</td>\n",
              "      <td>PDX</td>\n",
              "      <td>479</td>\n",
              "      <td>3</td>\n",
              "      <td>9</td>\n",
              "      <td>0</td>\n",
              "      <td>0</td>\n",
              "    </tr>\n",
              "    <tr>\n",
              "      <th>4</th>\n",
              "      <td>5</td>\n",
              "      <td>1</td>\n",
              "      <td>1</td>\n",
              "      <td>1</td>\n",
              "      <td>1430.0</td>\n",
              "      <td>WN</td>\n",
              "      <td>2386</td>\n",
              "      <td>N611SW</td>\n",
              "      <td>3.0</td>\n",
              "      <td>10.0</td>\n",
              "      <td>SMF</td>\n",
              "      <td>PDX</td>\n",
              "      <td>479</td>\n",
              "      <td>2</td>\n",
              "      <td>7</td>\n",
              "      <td>0</td>\n",
              "      <td>0</td>\n",
              "    </tr>\n",
              "  </tbody>\n",
              "</table>\n",
              "</div>"
            ],
            "text/plain": [
              "   Unnamed: 0  Month  DayofMonth  DayOfWeek  DepTime UniqueCarrier  FlightNum  \\\n",
              "0           0      1           1          1   1232.0            WN       2891   \n",
              "1           1      1           1          1   1918.0            WN        462   \n",
              "2           3      1           1          1   1230.0            WN       1355   \n",
              "3           4      1           1          1    831.0            WN       2278   \n",
              "4           5      1           1          1   1430.0            WN       2386   \n",
              "\n",
              "  TailNum  ArrDelay  DepDelay Origin Dest  Distance  TaxiIn  TaxiOut  \\\n",
              "0    N351       1.0       7.0    SMF  ONT       389       4       11   \n",
              "1    N370       8.0      13.0    SMF  PDX       479       5        6   \n",
              "2    N364      26.0      30.0    SMF  PDX       479       3        8   \n",
              "3    N480      -3.0       1.0    SMF  PDX       479       3        9   \n",
              "4  N611SW       3.0      10.0    SMF  PDX       479       2        7   \n",
              "\n",
              "   Diverted  ArrDelay_categorical  \n",
              "0         0                     0  \n",
              "1         0                     0  \n",
              "2         0                     0  \n",
              "3         0                     0  \n",
              "4         0                     0  "
            ]
          },
          "execution_count": 36,
          "metadata": {},
          "output_type": "execute_result"
        }
      ],
      "source": [
        "df = pd.read_csv('D:/Download/new_2007.csv') # Load data from Google Drive\n",
        "df.head() # See some information at the top of dataset"
      ]
    },
    {
      "cell_type": "code",
      "execution_count": 37,
      "metadata": {
        "id": "xoQCTQIRUiXD"
      },
      "outputs": [],
      "source": [
        "df = df.drop(columns=['TailNum', 'Origin', 'Dest','Unnamed: 0','ArrDelay','DepDelay']) # Drop categorical features which are analyzed at Analysis section "
      ]
    },
    {
      "cell_type": "code",
      "execution_count": 38,
      "metadata": {
        "id": "y0IP_AMuXCNF"
      },
      "outputs": [],
      "source": [
        "X = df.drop(['ArrDelay_categorical', 'Month', 'DayofMonth', 'DayOfWeek', 'UniqueCarrier'], axis=1) # Drop available features to convert to categorical feature\n",
        "y = df[\"ArrDelay_categorical\"] # Target column"
      ]
    },
    {
      "cell_type": "code",
      "execution_count": 39,
      "metadata": {
        "id": "sCqYnnkHuUQC"
      },
      "outputs": [],
      "source": [
        "Categorical_features = df[['Month', 'DayofMonth', 'DayOfWeek', 'UniqueCarrier']]\n",
        "one_hot_encoding = pd.get_dummies(data= Categorical_features, columns=['Month', 'DayofMonth', 'DayOfWeek', 'UniqueCarrier'])\n",
        "new_X = pd.concat([X, one_hot_encoding], axis=1, sort=False)"
      ]
    },
    {
      "cell_type": "markdown",
      "metadata": {},
      "source": [
        "\n",
        "---\n",
        "## **2. Apply model with pipelines**"
      ]
    },
    {
      "cell_type": "markdown",
      "metadata": {},
      "source": [
        "> ### 2.1 Hold out"
      ]
    },
    {
      "cell_type": "code",
      "execution_count": 40,
      "metadata": {
        "id": "0wHznKGFnm9d"
      },
      "outputs": [],
      "source": [
        "X_train, X_val, y_train, y_val = train_test_split(new_X, y, test_size = 0.2, random_state = 0) # Divide into 2 train test and test set"
      ]
    },
    {
      "cell_type": "markdown",
      "metadata": {},
      "source": [
        "> ### 2.2 Naive Bayes Pipeline"
      ]
    },
    {
      "cell_type": "code",
      "execution_count": 51,
      "metadata": {
        "id": "mpaTIn5w7gj_"
      },
      "outputs": [
        {
          "name": "stdout",
          "output_type": "stream",
          "text": [
            "Fitting 5 folds for each of 12 candidates, totalling 60 fits\n",
            "====================================================================================================\n",
            "Best configuration:  {'classifier__selected_model': ('mnb', {'alpha': 0.1, 'fit_prior': True}), 'preprocessor__selected_model': ('max', {'copy': True})}\n",
            "====================================================================================================\n",
            "CV Results {'mean_fit_time': array([5.21579504, 4.42087374, 5.08048782, 4.2728591 , 5.2715414 ,\n",
            "       4.54142742, 4.90548787, 4.33260221, 8.07232203, 7.41083627,\n",
            "       8.03066974, 7.65619335]), 'std_fit_time': array([0.25627491, 0.14506177, 0.27858311, 0.09129725, 0.25848562,\n",
            "       0.25084361, 0.02654034, 0.09368405, 0.04266048, 0.01803334,\n",
            "       0.02572283, 0.22190882]), 'mean_score_time': array([0.67568645, 0.48473558, 0.65259876, 0.48468151, 0.70237212,\n",
            "       0.52169337, 0.64829984, 0.53249564, 1.71808677, 1.61334147,\n",
            "       1.73997817, 1.51205454]), 'std_score_time': array([0.08217579, 0.02996149, 0.0330624 , 0.01404981, 0.06094017,\n",
            "       0.05514283, 0.01171501, 0.01963766, 0.07830064, 0.02422142,\n",
            "       0.04528042, 0.04574586]), 'param_classifier__selected_model': masked_array(data=[('mnb', {'alpha': 0.1, 'fit_prior': True}),\n",
            "                   ('mnb', {'alpha': 0.1, 'fit_prior': True}),\n",
            "                   ('mnb', {'alpha': 0.1, 'fit_prior': False}),\n",
            "                   ('mnb', {'alpha': 0.1, 'fit_prior': False}),\n",
            "                   ('mnb', {'alpha': 0.2, 'fit_prior': True}),\n",
            "                   ('mnb', {'alpha': 0.2, 'fit_prior': True}),\n",
            "                   ('mnb', {'alpha': 0.2, 'fit_prior': False}),\n",
            "                   ('mnb', {'alpha': 0.2, 'fit_prior': False}),\n",
            "                   ('gnb', {'var_smoothing': 1e-09}),\n",
            "                   ('gnb', {'var_smoothing': 1e-09}),\n",
            "                   ('gnb', {'var_smoothing': 1e-05}),\n",
            "                   ('gnb', {'var_smoothing': 1e-05})],\n",
            "             mask=[False, False, False, False, False, False, False, False,\n",
            "                   False, False, False, False],\n",
            "       fill_value='?',\n",
            "            dtype=object), 'param_preprocessor__selected_model': masked_array(data=[('max', {'copy': True}), ('max', {'copy': False}),\n",
            "                   ('max', {'copy': True}), ('max', {'copy': False}),\n",
            "                   ('max', {'copy': True}), ('max', {'copy': False}),\n",
            "                   ('max', {'copy': True}), ('max', {'copy': False}),\n",
            "                   ('max', {'copy': True}), ('max', {'copy': False}),\n",
            "                   ('max', {'copy': True}), ('max', {'copy': False})],\n",
            "             mask=[False, False, False, False, False, False, False, False,\n",
            "                   False, False, False, False],\n",
            "       fill_value='?',\n",
            "            dtype=object), 'params': [{'classifier__selected_model': ('mnb', {'alpha': 0.1, 'fit_prior': True}), 'preprocessor__selected_model': ('max', {'copy': True})}, {'classifier__selected_model': ('mnb', {'alpha': 0.1, 'fit_prior': True}), 'preprocessor__selected_model': ('max', {'copy': False})}, {'classifier__selected_model': ('mnb', {'alpha': 0.1, 'fit_prior': False}), 'preprocessor__selected_model': ('max', {'copy': True})}, {'classifier__selected_model': ('mnb', {'alpha': 0.1, 'fit_prior': False}), 'preprocessor__selected_model': ('max', {'copy': False})}, {'classifier__selected_model': ('mnb', {'alpha': 0.2, 'fit_prior': True}), 'preprocessor__selected_model': ('max', {'copy': True})}, {'classifier__selected_model': ('mnb', {'alpha': 0.2, 'fit_prior': True}), 'preprocessor__selected_model': ('max', {'copy': False})}, {'classifier__selected_model': ('mnb', {'alpha': 0.2, 'fit_prior': False}), 'preprocessor__selected_model': ('max', {'copy': True})}, {'classifier__selected_model': ('mnb', {'alpha': 0.2, 'fit_prior': False}), 'preprocessor__selected_model': ('max', {'copy': False})}, {'classifier__selected_model': ('gnb', {'var_smoothing': 1e-09}), 'preprocessor__selected_model': ('max', {'copy': True})}, {'classifier__selected_model': ('gnb', {'var_smoothing': 1e-09}), 'preprocessor__selected_model': ('max', {'copy': False})}, {'classifier__selected_model': ('gnb', {'var_smoothing': 1e-05}), 'preprocessor__selected_model': ('max', {'copy': True})}, {'classifier__selected_model': ('gnb', {'var_smoothing': 1e-05}), 'preprocessor__selected_model': ('max', {'copy': False})}], 'split0_test_score': array([0.98287616, 0.98287616, 0.67290266, 0.67290266, 0.98287616,\n",
            "       0.98287616, 0.67290148, 0.67290148, 0.98256522, 0.98256522,\n",
            "       0.96984041, 0.96984041]), 'split1_test_score': array([0.98273129, 0.98273129, 0.6752865 , 0.6752865 , 0.98273129,\n",
            "       0.98273129, 0.67528414, 0.67528414, 0.98249809, 0.98249809,\n",
            "       0.97102997, 0.97102997]), 'split2_test_score': array([0.98276191, 0.98276191, 0.67256699, 0.67256699, 0.98276191,\n",
            "       0.98276191, 0.67256934, 0.67256934, 0.98243566, 0.98243566,\n",
            "       0.96880749, 0.96880749]), 'split3_test_score': array([0.98287144, 0.98287144, 0.67600612, 0.67600612, 0.98287144,\n",
            "       0.98287144, 0.67600377, 0.67600377, 0.98260762, 0.98260762,\n",
            "       0.96978505, 0.96978505]), 'split4_test_score': array([0.98274895, 0.98274895, 0.67660091, 0.67660091, 0.98274895,\n",
            "       0.98274895, 0.6765962 , 0.6765962 , 0.98234497, 0.98234497,\n",
            "       0.96908663, 0.96908663]), 'mean_test_score': array([0.98279795, 0.98279795, 0.67467263, 0.67467263, 0.98279795,\n",
            "       0.98279795, 0.67467099, 0.67467099, 0.98249031, 0.98249031,\n",
            "       0.96970991, 0.96970991]), 'std_test_score': array([6.27069517e-05, 6.27069517e-05, 1.63950199e-03, 1.63950199e-03,\n",
            "       6.27069517e-05, 6.27069517e-05, 1.63748385e-03, 1.63748385e-03,\n",
            "       9.33193822e-05, 9.33193822e-05, 7.70466194e-04, 7.70466194e-04]), 'rank_test_score': array([ 1,  1,  9,  9,  1,  1, 11, 11,  5,  5,  7,  7])}\n",
            "====================================================================================================\n",
            "Accuracy:   0.98\n",
            "====================================================================================================\n"
          ]
        }
      ],
      "source": [
        "# Define pipeline 1\n",
        "pipe_1 = Pipeline([\n",
        "    ('preprocessor', PipelineHelper([\n",
        "        ('max', MinMaxScaler())\n",
        "    ])),\n",
        "    ('classifier', PipelineHelper([\n",
        "            ('mnb', MultinomialNB()),  \n",
        "            ('gnb', GaussianNB()),\n",
        "    ])),\n",
        "])\n",
        "\n",
        "# Test configuration\n",
        "parameters_1 = {\n",
        "    'preprocessor__selected_model': pipe_1.named_steps['preprocessor'].generate({\n",
        "        'max__copy': [True, False],\n",
        "    }),\n",
        "    'classifier__selected_model': pipe_1.named_steps['classifier'].generate({\n",
        "        'mnb__fit_prior': [True, False],\n",
        "        'mnb__alpha': [0.1, 0.2],\n",
        "        'gnb__var_smoothing': [1e-9, 1e-5],\n",
        "    })\n",
        "}\n",
        "# Select configuration\n",
        "grid = GridSearchCV(pipe_1, parameters_1, cv=5, scoring='accuracy',verbose=1)\n",
        "grid.fit(X_train, y_train)\n",
        "grid_best = grid.best_estimator_ # Best estimator\n",
        "print(\"=\"*100)\n",
        "print(\"Best configuration: \", grid.best_params_)\n",
        "print(\"=\"*100)\n",
        "print(\"CV Results\", grid.cv_results_)\n",
        "print(\"=\"*100)\n",
        "print(\"Accuracy: {:6.2f}\".format(grid.score(X_val, y_val)))\n",
        "print(\"=\"*100)"
      ]
    },
    {
      "cell_type": "code",
      "execution_count": 52,
      "metadata": {},
      "outputs": [
        {
          "name": "stdout",
          "output_type": "stream",
          "text": [
            "====================================================================================================\n",
            "Classification Report\n",
            "              precision    recall  f1-score   support\n",
            "\n",
            "           0       0.98      1.00      0.99   1040663\n",
            "           1       1.00      0.10      0.19     20650\n",
            "\n",
            "    accuracy                           0.98   1061313\n",
            "   macro avg       0.99      0.55      0.59   1061313\n",
            "weighted avg       0.98      0.98      0.98   1061313\n",
            "\n",
            "====================================================================================================\n"
          ]
        }
      ],
      "source": [
        "grid_best.fit(X_train, y_train) # Retrain\n",
        "y_pred = grid_best.predict(X_val) # Predict with test set\n",
        "print(\"=\"*100)\n",
        "print(\"Classification Report\")\n",
        "print(classification_report(y_val, y_pred)) # Evaluate the model\n",
        "print(\"=\"*100)"
      ]
    },
    {
      "cell_type": "markdown",
      "metadata": {},
      "source": [
        "> ### 2.3 Ensemble Algorithms Pipeline"
      ]
    },
    {
      "cell_type": "code",
      "execution_count": 53,
      "metadata": {
        "id": "l9zZSLaGxVnE"
      },
      "outputs": [
        {
          "name": "stdout",
          "output_type": "stream",
          "text": [
            "Fitting 5 folds for each of 80 candidates, totalling 400 fits\n",
            "--------------------------------------------------------------------------------\n",
            "Best configuration:  {'classifier__selected_model': ('rf', {'min_samples_split': 5, 'n_estimators': 50}), 'preprocessor__selected_model': ('std', {'with_mean': False})}\n",
            "Accuracy:   0.98\n"
          ]
        }
      ],
      "source": [
        "# Define pipeline 2\n",
        "pipe_2 = Pipeline([\n",
        "    ('preprocessor', PipelineHelper([\n",
        "        ('std', StandardScaler()),\n",
        "        ('max', MaxAbsScaler())\n",
        "    ], optional=True)),\n",
        "    ('classifier', PipelineHelper([\n",
        "        ('dc', DecisionTreeClassifier()),\n",
        "        ('rf', RandomForestClassifier()),\n",
        "        ('ada', AdaBoostClassifier()),\n",
        "        ('gb', GradientBoostingClassifier()),\n",
        "    ])),\n",
        "])\n",
        "\n",
        "# Test configuration\n",
        "parameters_2 = {\n",
        "    'preprocessor__selected_model': pipe_2.named_steps['preprocessor'].generate({\n",
        "        'std__with_mean': [True, False],\n",
        "        'max__copy': [True, False],\n",
        "    }),\n",
        "    'classifier__selected_model': pipe_2.named_steps['classifier'].generate({\n",
        "        'dc__min_samples_leaf': [5, 10],\n",
        "        'dc__max_depth': [5, 10],\n",
        "        'rf__n_estimators': [10, 20, 50],\n",
        "        'rf__min_samples_split': [2, 5],\n",
        "        'ada__n_estimators': [10, 20],\n",
        "        'ada__algorithm': ['SAMME', 'SAMME.R'],\n",
        "        'gb__n_estimators': [10, 50],\n",
        "    })\n",
        "}\n",
        "# Select configuration\n",
        "grid = GridSearchCV(pipe_2, parameters_2, cv=5, scoring='accuracy',verbose=1)\n",
        "grid.fit(X_train, y_train)\n",
        "print(\"-\"*80)\n",
        "print(\"Best configuration: \", grid.best_params_)\n",
        "print(\"Accuracy: {:6.2f}\".format(grid.score(X_val, y_val)))"
      ]
    },
    {
      "cell_type": "code",
      "execution_count": 58,
      "metadata": {},
      "outputs": [
        {
          "name": "stdout",
          "output_type": "stream",
          "text": [
            "====================================================================================================\n",
            "Classification Report\n",
            "              precision    recall  f1-score   support\n",
            "\n",
            "           0       0.98      1.00      0.99   1040663\n",
            "           1       1.00      0.10      0.19     20650\n",
            "\n",
            "    accuracy                           0.98   1061313\n",
            "   macro avg       0.99      0.55      0.59   1061313\n",
            "weighted avg       0.98      0.98      0.98   1061313\n",
            "\n",
            "====================================================================================================\n"
          ]
        }
      ],
      "source": [
        "grid_best.fit(X_train, y_train) # Retrain\n",
        "y_pred = grid_best.predict(X_val) # Predict with test set\n",
        "print(\"=\"*100)\n",
        "print(\"Classification Report\")\n",
        "print(classification_report(y_val, y_pred)) # Evaluate the model\n",
        "print(\"=\"*100)"
      ]
    },
    {
      "cell_type": "markdown",
      "metadata": {},
      "source": [
        "> ### 2.4 Support Vector Machines & K-Nearest Neighbors Pipeline"
      ]
    },
    {
      "cell_type": "code",
      "execution_count": 59,
      "metadata": {
        "colab": {
          "base_uri": "https://localhost:8080/"
        },
        "id": "jZbhlnZFkxHZ",
        "outputId": "bd987356-f000-45b4-c2de-20965a2e2daf"
      },
      "outputs": [
        {
          "name": "stdout",
          "output_type": "stream",
          "text": [
            "Fitting 5 folds for each of 12 candidates, totalling 60 fits\n"
          ]
        }
      ],
      "source": [
        "# Define pipeline 2\n",
        "pipe_3 = Pipeline([\n",
        "    ('preprocessor', PipelineHelper([\n",
        "        ('std', StandardScaler()),\n",
        "    ])),\n",
        "    ('classifier', PipelineHelper([\n",
        "        ('svm', SVC()),\n",
        "        ('knn', KNeighborsClassifier()),\n",
        "    ])),\n",
        "])\n",
        "\n",
        "# Test configuration\n",
        "parameters_3 = {\n",
        "    'preprocessor__selected_model': pipe_3.named_steps['preprocessor'].generate({\n",
        "        'std__with_mean': [True, False],\n",
        "    }),\n",
        "    'classifier__selected_model': pipe_3.named_steps['classifier'].generate({\n",
        "        'svm__C': [0.5, 1.0],\n",
        "        'svm__kernel': ['linear', 'rbf'],\n",
        "        'knn__n_neighbors': [2, 5],\n",
        "    })\n",
        "}\n",
        "# Select configuration\n",
        "grid = GridSearchCV(pipe_3, parameters_3, cv=5, scoring='accuracy',verbose=1)\n",
        "grid.fit(X_train, y_train)\n",
        "grid_best = grid.best_estimator_ # Best estimator\n",
        "print(\"=\"*100)\n",
        "print(\"Best configuration: \", grid.best_params_)\n",
        "print(\"=\"*100)\n",
        "print(\"CV Results\", grid.cv_results_)\n",
        "print(\"=\"*100)\n",
        "print(\"Accuracy: {:6.2f}\".format(grid.score(X_val, y_val)))\n",
        "print(\"=\"*100)"
      ]
    },
    {
      "cell_type": "code",
      "execution_count": null,
      "metadata": {},
      "outputs": [],
      "source": [
        "grid_best.fit(X_train, y_train) # Retrain\n",
        "y_pred = grid_best.predict(X_val) # Predict with test set\n",
        "print(\"=\"*100)\n",
        "print(\"Classification Report\")\n",
        "print(classification_report(y_val, y_pred)) # Evaluate the model\n",
        "print(\"=\"*100)"
      ]
    }
  ],
  "metadata": {
    "accelerator": "GPU",
    "colab": {
      "collapsed_sections": [],
      "name": "Airline_Arrivals_Models",
      "provenance": []
    },
    "interpreter": {
      "hash": "a2ab3825ac7005fb7b26f112e9c99ae62f464c629e30b0d534c3b931b6cbc3ff"
    },
    "kernelspec": {
      "display_name": "Python 3.9.7 ('base')",
      "language": "python",
      "name": "python3"
    },
    "language_info": {
      "codemirror_mode": {
        "name": "ipython",
        "version": 3
      },
      "file_extension": ".py",
      "mimetype": "text/x-python",
      "name": "python",
      "nbconvert_exporter": "python",
      "pygments_lexer": "ipython3",
      "version": "3.9.7"
    }
  },
  "nbformat": 4,
  "nbformat_minor": 0
}
