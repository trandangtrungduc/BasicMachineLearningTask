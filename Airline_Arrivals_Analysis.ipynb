{
  "nbformat": 4,
  "nbformat_minor": 0,
  "metadata": {
    "colab": {
      "name": "Airline_Arrivals_Analysis.ipynb",
      "provenance": [],
      "collapsed_sections": [],
      "toc_visible": true
    },
    "kernelspec": {
      "name": "python3",
      "display_name": "Python 3"
    },
    "language_info": {
      "name": "python"
    },
    "accelerator": "GPU"
  },
  "cells": [
    {
      "cell_type": "markdown",
      "metadata": {
        "id": "QN91IVlvxyGd"
      },
      "source": [
        "#  **TABLE OF CONTENTS**\n",
        "\n",
        "---\n",
        "\n",
        "## **1. Introduction**\n",
        "\n",
        "## **2. Preparing and exploring the data**\n",
        "\n",
        "> ###  2.1 Import librabries and handle missing value\n",
        "> > #### 2.1.1 Check out some basic information of data\n",
        "> > #### 2.1.2 Check missing value\n",
        "> ###  2.2 Data analyzing and feature selection\n",
        "> > #### 2.2.1 Handle high correlated features\n",
        "> > #### 2.2.2 Handle outlier and visualize correlation of categorical features\n",
        "\n",
        "## **3. Hypothesis testing**\n",
        "> ### 3.1 Anova test for Origin feature\n",
        "> ### 3.2 Anova test for UniqueCarrier feature\n",
        "> ### 3.3 Anova test for Dest feature\n",
        "\n",
        "\n"
      ]
    },
    {
      "cell_type": "markdown",
      "metadata": {
        "id": "uHtChHRM0WQE"
      },
      "source": [
        "## **1. Introduction**\n",
        "\n"
      ]
    },
    {
      "cell_type": "markdown",
      "metadata": {
        "id": "rZxtJoDE6Oiv"
      },
      "source": [
        "## **2. Preparing and exploring the data**\n",
        "\n"
      ]
    },
    {
      "cell_type": "markdown",
      "metadata": {
        "id": "LUHkG37mH1H0"
      },
      "source": [
        "### 2.1 Import librabries and handle missing value\n",
        "\n",
        "> Connect Google Drive to Google Colab and import necessary librabries\n",
        "\n",
        "> Load the data in file csv from Google Drive"
      ]
    },
    {
      "cell_type": "code",
      "metadata": {
        "id": "7LJ3zhqmNsmU",
        "colab": {
          "base_uri": "https://localhost:8080/"
        },
        "outputId": "91eb7f75-aeb3-4e5c-a359-7230f540f63f"
      },
      "source": [
        "from google.colab import drive\n",
        "drive.mount('/content/drive')"
      ],
      "execution_count": null,
      "outputs": [
        {
          "output_type": "stream",
          "text": [
            "Mounted at /content/drive\n"
          ],
          "name": "stdout"
        }
      ]
    },
    {
      "cell_type": "code",
      "metadata": {
        "id": "sNDfyK4A6PD5"
      },
      "source": [
        "import pandas as pd # Librabry for table data\n",
        "import numpy as np # Librabry for algebra\n",
        "from scipy import stats # Library for statistic\n",
        "# Library for visualization\n",
        "import matplotlib.pyplot as plt\n",
        "import seaborn as sns\n",
        "%matplotlib inline"
      ],
      "execution_count": null,
      "outputs": []
    },
    {
      "cell_type": "code",
      "metadata": {
        "id": "FFJmFN25-P0w",
        "colab": {
          "base_uri": "https://localhost:8080/",
          "height": 224
        },
        "outputId": "d7edccf9-238b-4566-a69b-522c880749c8"
      },
      "source": [
        "df = pd.read_csv('/content/drive/MyDrive/Data/2007.csv') # Load data from Google Drive\n",
        "df.head() # See some information at the top of dataset"
      ],
      "execution_count": null,
      "outputs": [
        {
          "output_type": "execute_result",
          "data": {
            "text/html": [
              "<div>\n",
              "<style scoped>\n",
              "    .dataframe tbody tr th:only-of-type {\n",
              "        vertical-align: middle;\n",
              "    }\n",
              "\n",
              "    .dataframe tbody tr th {\n",
              "        vertical-align: top;\n",
              "    }\n",
              "\n",
              "    .dataframe thead th {\n",
              "        text-align: right;\n",
              "    }\n",
              "</style>\n",
              "<table border=\"1\" class=\"dataframe\">\n",
              "  <thead>\n",
              "    <tr style=\"text-align: right;\">\n",
              "      <th></th>\n",
              "      <th>Year</th>\n",
              "      <th>Month</th>\n",
              "      <th>DayofMonth</th>\n",
              "      <th>DayOfWeek</th>\n",
              "      <th>DepTime</th>\n",
              "      <th>CRSDepTime</th>\n",
              "      <th>ArrTime</th>\n",
              "      <th>CRSArrTime</th>\n",
              "      <th>UniqueCarrier</th>\n",
              "      <th>FlightNum</th>\n",
              "      <th>TailNum</th>\n",
              "      <th>ActualElapsedTime</th>\n",
              "      <th>CRSElapsedTime</th>\n",
              "      <th>AirTime</th>\n",
              "      <th>ArrDelay</th>\n",
              "      <th>DepDelay</th>\n",
              "      <th>Origin</th>\n",
              "      <th>Dest</th>\n",
              "      <th>Distance</th>\n",
              "      <th>TaxiIn</th>\n",
              "      <th>TaxiOut</th>\n",
              "      <th>Cancelled</th>\n",
              "      <th>CancellationCode</th>\n",
              "      <th>Diverted</th>\n",
              "      <th>CarrierDelay</th>\n",
              "      <th>WeatherDelay</th>\n",
              "      <th>NASDelay</th>\n",
              "      <th>SecurityDelay</th>\n",
              "      <th>LateAircraftDelay</th>\n",
              "    </tr>\n",
              "  </thead>\n",
              "  <tbody>\n",
              "    <tr>\n",
              "      <th>0</th>\n",
              "      <td>2007</td>\n",
              "      <td>1</td>\n",
              "      <td>1</td>\n",
              "      <td>1</td>\n",
              "      <td>1232.0</td>\n",
              "      <td>1225</td>\n",
              "      <td>1341.0</td>\n",
              "      <td>1340</td>\n",
              "      <td>WN</td>\n",
              "      <td>2891</td>\n",
              "      <td>N351</td>\n",
              "      <td>69.0</td>\n",
              "      <td>75.0</td>\n",
              "      <td>54.0</td>\n",
              "      <td>1.0</td>\n",
              "      <td>7.0</td>\n",
              "      <td>SMF</td>\n",
              "      <td>ONT</td>\n",
              "      <td>389</td>\n",
              "      <td>4</td>\n",
              "      <td>11</td>\n",
              "      <td>0</td>\n",
              "      <td>NaN</td>\n",
              "      <td>0</td>\n",
              "      <td>0</td>\n",
              "      <td>0</td>\n",
              "      <td>0</td>\n",
              "      <td>0</td>\n",
              "      <td>0</td>\n",
              "    </tr>\n",
              "    <tr>\n",
              "      <th>1</th>\n",
              "      <td>2007</td>\n",
              "      <td>1</td>\n",
              "      <td>1</td>\n",
              "      <td>1</td>\n",
              "      <td>1918.0</td>\n",
              "      <td>1905</td>\n",
              "      <td>2043.0</td>\n",
              "      <td>2035</td>\n",
              "      <td>WN</td>\n",
              "      <td>462</td>\n",
              "      <td>N370</td>\n",
              "      <td>85.0</td>\n",
              "      <td>90.0</td>\n",
              "      <td>74.0</td>\n",
              "      <td>8.0</td>\n",
              "      <td>13.0</td>\n",
              "      <td>SMF</td>\n",
              "      <td>PDX</td>\n",
              "      <td>479</td>\n",
              "      <td>5</td>\n",
              "      <td>6</td>\n",
              "      <td>0</td>\n",
              "      <td>NaN</td>\n",
              "      <td>0</td>\n",
              "      <td>0</td>\n",
              "      <td>0</td>\n",
              "      <td>0</td>\n",
              "      <td>0</td>\n",
              "      <td>0</td>\n",
              "    </tr>\n",
              "    <tr>\n",
              "      <th>2</th>\n",
              "      <td>2007</td>\n",
              "      <td>1</td>\n",
              "      <td>1</td>\n",
              "      <td>1</td>\n",
              "      <td>2206.0</td>\n",
              "      <td>2130</td>\n",
              "      <td>2334.0</td>\n",
              "      <td>2300</td>\n",
              "      <td>WN</td>\n",
              "      <td>1229</td>\n",
              "      <td>N685</td>\n",
              "      <td>88.0</td>\n",
              "      <td>90.0</td>\n",
              "      <td>73.0</td>\n",
              "      <td>34.0</td>\n",
              "      <td>36.0</td>\n",
              "      <td>SMF</td>\n",
              "      <td>PDX</td>\n",
              "      <td>479</td>\n",
              "      <td>6</td>\n",
              "      <td>9</td>\n",
              "      <td>0</td>\n",
              "      <td>NaN</td>\n",
              "      <td>0</td>\n",
              "      <td>3</td>\n",
              "      <td>0</td>\n",
              "      <td>0</td>\n",
              "      <td>0</td>\n",
              "      <td>31</td>\n",
              "    </tr>\n",
              "    <tr>\n",
              "      <th>3</th>\n",
              "      <td>2007</td>\n",
              "      <td>1</td>\n",
              "      <td>1</td>\n",
              "      <td>1</td>\n",
              "      <td>1230.0</td>\n",
              "      <td>1200</td>\n",
              "      <td>1356.0</td>\n",
              "      <td>1330</td>\n",
              "      <td>WN</td>\n",
              "      <td>1355</td>\n",
              "      <td>N364</td>\n",
              "      <td>86.0</td>\n",
              "      <td>90.0</td>\n",
              "      <td>75.0</td>\n",
              "      <td>26.0</td>\n",
              "      <td>30.0</td>\n",
              "      <td>SMF</td>\n",
              "      <td>PDX</td>\n",
              "      <td>479</td>\n",
              "      <td>3</td>\n",
              "      <td>8</td>\n",
              "      <td>0</td>\n",
              "      <td>NaN</td>\n",
              "      <td>0</td>\n",
              "      <td>23</td>\n",
              "      <td>0</td>\n",
              "      <td>0</td>\n",
              "      <td>0</td>\n",
              "      <td>3</td>\n",
              "    </tr>\n",
              "    <tr>\n",
              "      <th>4</th>\n",
              "      <td>2007</td>\n",
              "      <td>1</td>\n",
              "      <td>1</td>\n",
              "      <td>1</td>\n",
              "      <td>831.0</td>\n",
              "      <td>830</td>\n",
              "      <td>957.0</td>\n",
              "      <td>1000</td>\n",
              "      <td>WN</td>\n",
              "      <td>2278</td>\n",
              "      <td>N480</td>\n",
              "      <td>86.0</td>\n",
              "      <td>90.0</td>\n",
              "      <td>74.0</td>\n",
              "      <td>-3.0</td>\n",
              "      <td>1.0</td>\n",
              "      <td>SMF</td>\n",
              "      <td>PDX</td>\n",
              "      <td>479</td>\n",
              "      <td>3</td>\n",
              "      <td>9</td>\n",
              "      <td>0</td>\n",
              "      <td>NaN</td>\n",
              "      <td>0</td>\n",
              "      <td>0</td>\n",
              "      <td>0</td>\n",
              "      <td>0</td>\n",
              "      <td>0</td>\n",
              "      <td>0</td>\n",
              "    </tr>\n",
              "  </tbody>\n",
              "</table>\n",
              "</div>"
            ],
            "text/plain": [
              "   Year  Month  DayofMonth  ...  NASDelay  SecurityDelay  LateAircraftDelay\n",
              "0  2007      1           1  ...         0              0                  0\n",
              "1  2007      1           1  ...         0              0                  0\n",
              "2  2007      1           1  ...         0              0                 31\n",
              "3  2007      1           1  ...         0              0                  3\n",
              "4  2007      1           1  ...         0              0                  0\n",
              "\n",
              "[5 rows x 29 columns]"
            ]
          },
          "metadata": {
            "tags": []
          },
          "execution_count": 6
        }
      ]
    },
    {
      "cell_type": "markdown",
      "metadata": {
        "id": "o79Vs5FJBGmn"
      },
      "source": [
        "#### 2.1.1 Check out some basic information of data"
      ]
    },
    {
      "cell_type": "code",
      "metadata": {
        "id": "litK06o6D1sj",
        "colab": {
          "base_uri": "https://localhost:8080/"
        },
        "outputId": "cda79e93-3746-4208-bed2-a342e7458657"
      },
      "source": [
        "df.shape # Size of data "
      ],
      "execution_count": null,
      "outputs": [
        {
          "output_type": "execute_result",
          "data": {
            "text/plain": [
              "(7453215, 29)"
            ]
          },
          "metadata": {
            "tags": []
          },
          "execution_count": 7
        }
      ]
    },
    {
      "cell_type": "markdown",
      "metadata": {
        "id": "xXkeywy1QMVp"
      },
      "source": [
        "> We will remove unnecessary data: \n",
        "> > - Year: because all data points are in 2007 \n",
        "\n",
        "> > - Cancelled, Diverted, CancellationCode: three features is unrealted to the model\n",
        "\n",
        "> We see that:\n",
        "> > 1. DepDelay = DepTime - CRSDepTime\n",
        "\n",
        "> > 2. ArrDelay = ArrTime - CRSArrTime=CarrierDelay + WeatherDelay+ NASDelay + SecurityDelay + LateAircraftDelay\n",
        "\n",
        "> > 3. ArrDelay = DepDelay + (ActualElapsedTime - CRSElapsedTime CRSElapsedTime \n",
        "\n",
        "> Therefore, we remove actual data:\n",
        "> > ArrTime, CRSArrTime, CarriesDelay,WeatherDelay, NASDelay, SecurityDelay, LateAircraftDelay, ArrDelay.\n",
        "\n",
        "\n"
      ]
    },
    {
      "cell_type": "code",
      "metadata": {
        "id": "MAd5IAKIS-4q",
        "colab": {
          "base_uri": "https://localhost:8080/",
          "height": 419
        },
        "outputId": "02983375-27d5-4119-b176-3b416fc2a775"
      },
      "source": [
        "# Drop unnecessary columns\n",
        "df = df.drop(columns=['Year', 'Cancelled','CancellationCode','ArrTime','CRSArrTime','CarrierDelay',\\\n",
        "                      'WeatherDelay','NASDelay', 'SecurityDelay', 'LateAircraftDelay','ActualElapsedTime'])\n",
        "df.drop_duplicates() # Drop dulicated data"
      ],
      "execution_count": null,
      "outputs": [
        {
          "output_type": "execute_result",
          "data": {
            "text/html": [
              "<div>\n",
              "<style scoped>\n",
              "    .dataframe tbody tr th:only-of-type {\n",
              "        vertical-align: middle;\n",
              "    }\n",
              "\n",
              "    .dataframe tbody tr th {\n",
              "        vertical-align: top;\n",
              "    }\n",
              "\n",
              "    .dataframe thead th {\n",
              "        text-align: right;\n",
              "    }\n",
              "</style>\n",
              "<table border=\"1\" class=\"dataframe\">\n",
              "  <thead>\n",
              "    <tr style=\"text-align: right;\">\n",
              "      <th></th>\n",
              "      <th>Month</th>\n",
              "      <th>DayofMonth</th>\n",
              "      <th>DayOfWeek</th>\n",
              "      <th>DepTime</th>\n",
              "      <th>CRSDepTime</th>\n",
              "      <th>UniqueCarrier</th>\n",
              "      <th>FlightNum</th>\n",
              "      <th>TailNum</th>\n",
              "      <th>CRSElapsedTime</th>\n",
              "      <th>AirTime</th>\n",
              "      <th>ArrDelay</th>\n",
              "      <th>DepDelay</th>\n",
              "      <th>Origin</th>\n",
              "      <th>Dest</th>\n",
              "      <th>Distance</th>\n",
              "      <th>TaxiIn</th>\n",
              "      <th>TaxiOut</th>\n",
              "      <th>Diverted</th>\n",
              "    </tr>\n",
              "  </thead>\n",
              "  <tbody>\n",
              "    <tr>\n",
              "      <th>0</th>\n",
              "      <td>1</td>\n",
              "      <td>1</td>\n",
              "      <td>1</td>\n",
              "      <td>1232.0</td>\n",
              "      <td>1225</td>\n",
              "      <td>WN</td>\n",
              "      <td>2891</td>\n",
              "      <td>N351</td>\n",
              "      <td>75.0</td>\n",
              "      <td>54.0</td>\n",
              "      <td>1.0</td>\n",
              "      <td>7.0</td>\n",
              "      <td>SMF</td>\n",
              "      <td>ONT</td>\n",
              "      <td>389</td>\n",
              "      <td>4</td>\n",
              "      <td>11</td>\n",
              "      <td>0</td>\n",
              "    </tr>\n",
              "    <tr>\n",
              "      <th>1</th>\n",
              "      <td>1</td>\n",
              "      <td>1</td>\n",
              "      <td>1</td>\n",
              "      <td>1918.0</td>\n",
              "      <td>1905</td>\n",
              "      <td>WN</td>\n",
              "      <td>462</td>\n",
              "      <td>N370</td>\n",
              "      <td>90.0</td>\n",
              "      <td>74.0</td>\n",
              "      <td>8.0</td>\n",
              "      <td>13.0</td>\n",
              "      <td>SMF</td>\n",
              "      <td>PDX</td>\n",
              "      <td>479</td>\n",
              "      <td>5</td>\n",
              "      <td>6</td>\n",
              "      <td>0</td>\n",
              "    </tr>\n",
              "    <tr>\n",
              "      <th>2</th>\n",
              "      <td>1</td>\n",
              "      <td>1</td>\n",
              "      <td>1</td>\n",
              "      <td>2206.0</td>\n",
              "      <td>2130</td>\n",
              "      <td>WN</td>\n",
              "      <td>1229</td>\n",
              "      <td>N685</td>\n",
              "      <td>90.0</td>\n",
              "      <td>73.0</td>\n",
              "      <td>34.0</td>\n",
              "      <td>36.0</td>\n",
              "      <td>SMF</td>\n",
              "      <td>PDX</td>\n",
              "      <td>479</td>\n",
              "      <td>6</td>\n",
              "      <td>9</td>\n",
              "      <td>0</td>\n",
              "    </tr>\n",
              "    <tr>\n",
              "      <th>3</th>\n",
              "      <td>1</td>\n",
              "      <td>1</td>\n",
              "      <td>1</td>\n",
              "      <td>1230.0</td>\n",
              "      <td>1200</td>\n",
              "      <td>WN</td>\n",
              "      <td>1355</td>\n",
              "      <td>N364</td>\n",
              "      <td>90.0</td>\n",
              "      <td>75.0</td>\n",
              "      <td>26.0</td>\n",
              "      <td>30.0</td>\n",
              "      <td>SMF</td>\n",
              "      <td>PDX</td>\n",
              "      <td>479</td>\n",
              "      <td>3</td>\n",
              "      <td>8</td>\n",
              "      <td>0</td>\n",
              "    </tr>\n",
              "    <tr>\n",
              "      <th>4</th>\n",
              "      <td>1</td>\n",
              "      <td>1</td>\n",
              "      <td>1</td>\n",
              "      <td>831.0</td>\n",
              "      <td>830</td>\n",
              "      <td>WN</td>\n",
              "      <td>2278</td>\n",
              "      <td>N480</td>\n",
              "      <td>90.0</td>\n",
              "      <td>74.0</td>\n",
              "      <td>-3.0</td>\n",
              "      <td>1.0</td>\n",
              "      <td>SMF</td>\n",
              "      <td>PDX</td>\n",
              "      <td>479</td>\n",
              "      <td>3</td>\n",
              "      <td>9</td>\n",
              "      <td>0</td>\n",
              "    </tr>\n",
              "    <tr>\n",
              "      <th>...</th>\n",
              "      <td>...</td>\n",
              "      <td>...</td>\n",
              "      <td>...</td>\n",
              "      <td>...</td>\n",
              "      <td>...</td>\n",
              "      <td>...</td>\n",
              "      <td>...</td>\n",
              "      <td>...</td>\n",
              "      <td>...</td>\n",
              "      <td>...</td>\n",
              "      <td>...</td>\n",
              "      <td>...</td>\n",
              "      <td>...</td>\n",
              "      <td>...</td>\n",
              "      <td>...</td>\n",
              "      <td>...</td>\n",
              "      <td>...</td>\n",
              "      <td>...</td>\n",
              "    </tr>\n",
              "    <tr>\n",
              "      <th>7453210</th>\n",
              "      <td>12</td>\n",
              "      <td>15</td>\n",
              "      <td>6</td>\n",
              "      <td>1558.0</td>\n",
              "      <td>1605</td>\n",
              "      <td>DL</td>\n",
              "      <td>58</td>\n",
              "      <td>N670DN</td>\n",
              "      <td>91.0</td>\n",
              "      <td>80.0</td>\n",
              "      <td>13.0</td>\n",
              "      <td>-7.0</td>\n",
              "      <td>MCO</td>\n",
              "      <td>ATL</td>\n",
              "      <td>403</td>\n",
              "      <td>14</td>\n",
              "      <td>17</td>\n",
              "      <td>0</td>\n",
              "    </tr>\n",
              "    <tr>\n",
              "      <th>7453211</th>\n",
              "      <td>12</td>\n",
              "      <td>15</td>\n",
              "      <td>6</td>\n",
              "      <td>1902.0</td>\n",
              "      <td>1851</td>\n",
              "      <td>DL</td>\n",
              "      <td>59</td>\n",
              "      <td>N829MH</td>\n",
              "      <td>254.0</td>\n",
              "      <td>221.0</td>\n",
              "      <td>5.0</td>\n",
              "      <td>11.0</td>\n",
              "      <td>ATL</td>\n",
              "      <td>SLC</td>\n",
              "      <td>1589</td>\n",
              "      <td>6</td>\n",
              "      <td>21</td>\n",
              "      <td>0</td>\n",
              "    </tr>\n",
              "    <tr>\n",
              "      <th>7453212</th>\n",
              "      <td>12</td>\n",
              "      <td>15</td>\n",
              "      <td>6</td>\n",
              "      <td>1024.0</td>\n",
              "      <td>1025</td>\n",
              "      <td>DL</td>\n",
              "      <td>61</td>\n",
              "      <td>N623DL</td>\n",
              "      <td>250.0</td>\n",
              "      <td>233.0</td>\n",
              "      <td>15.0</td>\n",
              "      <td>-1.0</td>\n",
              "      <td>LAX</td>\n",
              "      <td>ATL</td>\n",
              "      <td>1946</td>\n",
              "      <td>14</td>\n",
              "      <td>19</td>\n",
              "      <td>0</td>\n",
              "    </tr>\n",
              "    <tr>\n",
              "      <th>7453213</th>\n",
              "      <td>12</td>\n",
              "      <td>15</td>\n",
              "      <td>6</td>\n",
              "      <td>1353.0</td>\n",
              "      <td>1315</td>\n",
              "      <td>DL</td>\n",
              "      <td>62</td>\n",
              "      <td>N970DL</td>\n",
              "      <td>127.0</td>\n",
              "      <td>100.0</td>\n",
              "      <td>36.0</td>\n",
              "      <td>38.0</td>\n",
              "      <td>DFW</td>\n",
              "      <td>ATL</td>\n",
              "      <td>732</td>\n",
              "      <td>11</td>\n",
              "      <td>14</td>\n",
              "      <td>0</td>\n",
              "    </tr>\n",
              "    <tr>\n",
              "      <th>7453214</th>\n",
              "      <td>12</td>\n",
              "      <td>15</td>\n",
              "      <td>6</td>\n",
              "      <td>1824.0</td>\n",
              "      <td>1800</td>\n",
              "      <td>DL</td>\n",
              "      <td>63</td>\n",
              "      <td>N628DL</td>\n",
              "      <td>88.0</td>\n",
              "      <td>61.0</td>\n",
              "      <td>33.0</td>\n",
              "      <td>24.0</td>\n",
              "      <td>ATL</td>\n",
              "      <td>MCO</td>\n",
              "      <td>403</td>\n",
              "      <td>10</td>\n",
              "      <td>26</td>\n",
              "      <td>0</td>\n",
              "    </tr>\n",
              "  </tbody>\n",
              "</table>\n",
              "<p>7453186 rows × 18 columns</p>\n",
              "</div>"
            ],
            "text/plain": [
              "         Month  DayofMonth  DayOfWeek  ...  TaxiIn  TaxiOut Diverted\n",
              "0            1           1          1  ...       4       11        0\n",
              "1            1           1          1  ...       5        6        0\n",
              "2            1           1          1  ...       6        9        0\n",
              "3            1           1          1  ...       3        8        0\n",
              "4            1           1          1  ...       3        9        0\n",
              "...        ...         ...        ...  ...     ...      ...      ...\n",
              "7453210     12          15          6  ...      14       17        0\n",
              "7453211     12          15          6  ...       6       21        0\n",
              "7453212     12          15          6  ...      14       19        0\n",
              "7453213     12          15          6  ...      11       14        0\n",
              "7453214     12          15          6  ...      10       26        0\n",
              "\n",
              "[7453186 rows x 18 columns]"
            ]
          },
          "metadata": {
            "tags": []
          },
          "execution_count": 8
        }
      ]
    },
    {
      "cell_type": "markdown",
      "metadata": {
        "id": "g8ox_2nuS94j"
      },
      "source": [
        "\n",
        "#### 2.1.2 Check missing value"
      ]
    },
    {
      "cell_type": "code",
      "metadata": {
        "id": "R27aVq55MrwN",
        "colab": {
          "base_uri": "https://localhost:8080/"
        },
        "outputId": "8e4fee0e-d6f5-4a42-87f3-e5b35869033b"
      },
      "source": [
        "df.isnull().sum() # Sum of missing values"
      ],
      "execution_count": null,
      "outputs": [
        {
          "output_type": "execute_result",
          "data": {
            "text/plain": [
              "Month                  0\n",
              "DayofMonth             0\n",
              "DayOfWeek              0\n",
              "DepTime           160748\n",
              "CRSDepTime             0\n",
              "UniqueCarrier          0\n",
              "FlightNum              0\n",
              "TailNum               22\n",
              "CRSElapsedTime       994\n",
              "AirTime           177927\n",
              "ArrDelay          177927\n",
              "DepDelay          160748\n",
              "Origin                 0\n",
              "Dest                   0\n",
              "Distance               0\n",
              "TaxiIn                 0\n",
              "TaxiOut                0\n",
              "Diverted               0\n",
              "dtype: int64"
            ]
          },
          "metadata": {
            "tags": []
          },
          "execution_count": 9
        }
      ]
    },
    {
      "cell_type": "markdown",
      "metadata": {
        "id": "Ssvm7_YeEnLc"
      },
      "source": [
        "> We can see that the data with missing values are: DepTime, TailNum, CRSElapsedTime, AirTime, ArrDelay, DepDelay. We need to handle these missing values in the most reasonable way. \n",
        "\n"
      ]
    },
    {
      "cell_type": "code",
      "metadata": {
        "id": "8NJ9LM6SE4hs",
        "colab": {
          "base_uri": "https://localhost:8080/",
          "height": 483
        },
        "outputId": "6c9e79c2-b227-4d1c-9f58-1f722650475e"
      },
      "source": [
        "df.describe().T # Descriptive statistic of numeric dataset"
      ],
      "execution_count": null,
      "outputs": [
        {
          "output_type": "execute_result",
          "data": {
            "text/html": [
              "<div>\n",
              "<style scoped>\n",
              "    .dataframe tbody tr th:only-of-type {\n",
              "        vertical-align: middle;\n",
              "    }\n",
              "\n",
              "    .dataframe tbody tr th {\n",
              "        vertical-align: top;\n",
              "    }\n",
              "\n",
              "    .dataframe thead th {\n",
              "        text-align: right;\n",
              "    }\n",
              "</style>\n",
              "<table border=\"1\" class=\"dataframe\">\n",
              "  <thead>\n",
              "    <tr style=\"text-align: right;\">\n",
              "      <th></th>\n",
              "      <th>count</th>\n",
              "      <th>mean</th>\n",
              "      <th>std</th>\n",
              "      <th>min</th>\n",
              "      <th>25%</th>\n",
              "      <th>50%</th>\n",
              "      <th>75%</th>\n",
              "      <th>max</th>\n",
              "    </tr>\n",
              "  </thead>\n",
              "  <tbody>\n",
              "    <tr>\n",
              "      <th>Month</th>\n",
              "      <td>7453215.0</td>\n",
              "      <td>6.514876</td>\n",
              "      <td>3.425117</td>\n",
              "      <td>1.0</td>\n",
              "      <td>4.0</td>\n",
              "      <td>7.0</td>\n",
              "      <td>9.0</td>\n",
              "      <td>12.0</td>\n",
              "    </tr>\n",
              "    <tr>\n",
              "      <th>DayofMonth</th>\n",
              "      <td>7453215.0</td>\n",
              "      <td>15.725889</td>\n",
              "      <td>8.781154</td>\n",
              "      <td>1.0</td>\n",
              "      <td>8.0</td>\n",
              "      <td>16.0</td>\n",
              "      <td>23.0</td>\n",
              "      <td>31.0</td>\n",
              "    </tr>\n",
              "    <tr>\n",
              "      <th>DayOfWeek</th>\n",
              "      <td>7453215.0</td>\n",
              "      <td>3.933804</td>\n",
              "      <td>1.992267</td>\n",
              "      <td>1.0</td>\n",
              "      <td>2.0</td>\n",
              "      <td>4.0</td>\n",
              "      <td>6.0</td>\n",
              "      <td>7.0</td>\n",
              "    </tr>\n",
              "    <tr>\n",
              "      <th>DepTime</th>\n",
              "      <td>7292467.0</td>\n",
              "      <td>1339.221099</td>\n",
              "      <td>479.852777</td>\n",
              "      <td>1.0</td>\n",
              "      <td>930.0</td>\n",
              "      <td>1329.0</td>\n",
              "      <td>1733.0</td>\n",
              "      <td>2400.0</td>\n",
              "    </tr>\n",
              "    <tr>\n",
              "      <th>CRSDepTime</th>\n",
              "      <td>7453215.0</td>\n",
              "      <td>1330.596349</td>\n",
              "      <td>464.707954</td>\n",
              "      <td>0.0</td>\n",
              "      <td>930.0</td>\n",
              "      <td>1322.0</td>\n",
              "      <td>1720.0</td>\n",
              "      <td>2359.0</td>\n",
              "    </tr>\n",
              "    <tr>\n",
              "      <th>FlightNum</th>\n",
              "      <td>7453215.0</td>\n",
              "      <td>2188.099289</td>\n",
              "      <td>1971.957664</td>\n",
              "      <td>1.0</td>\n",
              "      <td>590.0</td>\n",
              "      <td>1509.0</td>\n",
              "      <td>3553.0</td>\n",
              "      <td>9602.0</td>\n",
              "    </tr>\n",
              "    <tr>\n",
              "      <th>CRSElapsedTime</th>\n",
              "      <td>7452221.0</td>\n",
              "      <td>127.250240</td>\n",
              "      <td>70.357498</td>\n",
              "      <td>-1240.0</td>\n",
              "      <td>77.0</td>\n",
              "      <td>110.0</td>\n",
              "      <td>156.0</td>\n",
              "      <td>1430.0</td>\n",
              "    </tr>\n",
              "    <tr>\n",
              "      <th>AirTime</th>\n",
              "      <td>7275288.0</td>\n",
              "      <td>102.815936</td>\n",
              "      <td>68.245767</td>\n",
              "      <td>0.0</td>\n",
              "      <td>55.0</td>\n",
              "      <td>84.0</td>\n",
              "      <td>131.0</td>\n",
              "      <td>1257.0</td>\n",
              "    </tr>\n",
              "    <tr>\n",
              "      <th>ArrDelay</th>\n",
              "      <td>7275288.0</td>\n",
              "      <td>10.192181</td>\n",
              "      <td>39.307739</td>\n",
              "      <td>-312.0</td>\n",
              "      <td>-9.0</td>\n",
              "      <td>0.0</td>\n",
              "      <td>14.0</td>\n",
              "      <td>2598.0</td>\n",
              "    </tr>\n",
              "    <tr>\n",
              "      <th>DepDelay</th>\n",
              "      <td>7292467.0</td>\n",
              "      <td>11.399142</td>\n",
              "      <td>36.141889</td>\n",
              "      <td>-305.0</td>\n",
              "      <td>-4.0</td>\n",
              "      <td>0.0</td>\n",
              "      <td>11.0</td>\n",
              "      <td>2601.0</td>\n",
              "    </tr>\n",
              "    <tr>\n",
              "      <th>Distance</th>\n",
              "      <td>7453215.0</td>\n",
              "      <td>719.805789</td>\n",
              "      <td>562.305125</td>\n",
              "      <td>11.0</td>\n",
              "      <td>319.0</td>\n",
              "      <td>569.0</td>\n",
              "      <td>946.0</td>\n",
              "      <td>4962.0</td>\n",
              "    </tr>\n",
              "    <tr>\n",
              "      <th>TaxiIn</th>\n",
              "      <td>7453215.0</td>\n",
              "      <td>6.691984</td>\n",
              "      <td>5.151351</td>\n",
              "      <td>0.0</td>\n",
              "      <td>4.0</td>\n",
              "      <td>5.0</td>\n",
              "      <td>8.0</td>\n",
              "      <td>545.0</td>\n",
              "    </tr>\n",
              "    <tr>\n",
              "      <th>TaxiOut</th>\n",
              "      <td>7453215.0</td>\n",
              "      <td>16.300146</td>\n",
              "      <td>11.833959</td>\n",
              "      <td>0.0</td>\n",
              "      <td>10.0</td>\n",
              "      <td>14.0</td>\n",
              "      <td>19.0</td>\n",
              "      <td>530.0</td>\n",
              "    </tr>\n",
              "    <tr>\n",
              "      <th>Diverted</th>\n",
              "      <td>7453215.0</td>\n",
              "      <td>0.002305</td>\n",
              "      <td>0.047954</td>\n",
              "      <td>0.0</td>\n",
              "      <td>0.0</td>\n",
              "      <td>0.0</td>\n",
              "      <td>0.0</td>\n",
              "      <td>1.0</td>\n",
              "    </tr>\n",
              "  </tbody>\n",
              "</table>\n",
              "</div>"
            ],
            "text/plain": [
              "                    count         mean          std  ...     50%     75%     max\n",
              "Month           7453215.0     6.514876     3.425117  ...     7.0     9.0    12.0\n",
              "DayofMonth      7453215.0    15.725889     8.781154  ...    16.0    23.0    31.0\n",
              "DayOfWeek       7453215.0     3.933804     1.992267  ...     4.0     6.0     7.0\n",
              "DepTime         7292467.0  1339.221099   479.852777  ...  1329.0  1733.0  2400.0\n",
              "CRSDepTime      7453215.0  1330.596349   464.707954  ...  1322.0  1720.0  2359.0\n",
              "FlightNum       7453215.0  2188.099289  1971.957664  ...  1509.0  3553.0  9602.0\n",
              "CRSElapsedTime  7452221.0   127.250240    70.357498  ...   110.0   156.0  1430.0\n",
              "AirTime         7275288.0   102.815936    68.245767  ...    84.0   131.0  1257.0\n",
              "ArrDelay        7275288.0    10.192181    39.307739  ...     0.0    14.0  2598.0\n",
              "DepDelay        7292467.0    11.399142    36.141889  ...     0.0    11.0  2601.0\n",
              "Distance        7453215.0   719.805789   562.305125  ...   569.0   946.0  4962.0\n",
              "TaxiIn          7453215.0     6.691984     5.151351  ...     5.0     8.0   545.0\n",
              "TaxiOut         7453215.0    16.300146    11.833959  ...    14.0    19.0   530.0\n",
              "Diverted        7453215.0     0.002305     0.047954  ...     0.0     0.0     1.0\n",
              "\n",
              "[14 rows x 8 columns]"
            ]
          },
          "metadata": {
            "tags": []
          },
          "execution_count": 10
        }
      ]
    },
    {
      "cell_type": "code",
      "metadata": {
        "id": "kc0ecIpmMc9z",
        "colab": {
          "base_uri": "https://localhost:8080/",
          "height": 173
        },
        "outputId": "f70a523b-5c54-48ac-93a4-2c9f04fb69ee"
      },
      "source": [
        "df.describe(include=[object])  # Descriptive statistic of object dataset"
      ],
      "execution_count": null,
      "outputs": [
        {
          "output_type": "execute_result",
          "data": {
            "text/html": [
              "<div>\n",
              "<style scoped>\n",
              "    .dataframe tbody tr th:only-of-type {\n",
              "        vertical-align: middle;\n",
              "    }\n",
              "\n",
              "    .dataframe tbody tr th {\n",
              "        vertical-align: top;\n",
              "    }\n",
              "\n",
              "    .dataframe thead th {\n",
              "        text-align: right;\n",
              "    }\n",
              "</style>\n",
              "<table border=\"1\" class=\"dataframe\">\n",
              "  <thead>\n",
              "    <tr style=\"text-align: right;\">\n",
              "      <th></th>\n",
              "      <th>UniqueCarrier</th>\n",
              "      <th>TailNum</th>\n",
              "      <th>Origin</th>\n",
              "      <th>Dest</th>\n",
              "    </tr>\n",
              "  </thead>\n",
              "  <tbody>\n",
              "    <tr>\n",
              "      <th>count</th>\n",
              "      <td>7453215</td>\n",
              "      <td>7453193</td>\n",
              "      <td>7453215</td>\n",
              "      <td>7453215</td>\n",
              "    </tr>\n",
              "    <tr>\n",
              "      <th>unique</th>\n",
              "      <td>20</td>\n",
              "      <td>5505</td>\n",
              "      <td>304</td>\n",
              "      <td>310</td>\n",
              "    </tr>\n",
              "    <tr>\n",
              "      <th>top</th>\n",
              "      <td>WN</td>\n",
              "      <td>0</td>\n",
              "      <td>ATL</td>\n",
              "      <td>ATL</td>\n",
              "    </tr>\n",
              "    <tr>\n",
              "      <th>freq</th>\n",
              "      <td>1168871</td>\n",
              "      <td>105239</td>\n",
              "      <td>413851</td>\n",
              "      <td>413805</td>\n",
              "    </tr>\n",
              "  </tbody>\n",
              "</table>\n",
              "</div>"
            ],
            "text/plain": [
              "       UniqueCarrier  TailNum   Origin     Dest\n",
              "count        7453215  7453193  7453215  7453215\n",
              "unique            20     5505      304      310\n",
              "top               WN        0      ATL      ATL\n",
              "freq         1168871   105239   413851   413805"
            ]
          },
          "metadata": {
            "tags": []
          },
          "execution_count": 11
        }
      ]
    },
    {
      "cell_type": "markdown",
      "metadata": {
        "id": "AuCQT-NA-jFg"
      },
      "source": [
        "\n",
        "> Evaluate each data and how to process each feature base on above tables\n",
        "\n",
        "> 1. DepTime:\n",
        "\n",
        "> > - Missing values: 160748/7453215 (2.16%).\n",
        "\n",
        "> > - Solution: Because the departure time depends on the flight and destination, we cannot use alternative statistical methods, so we decided to **remove these rows** due to the low percentage of our data.\n",
        "\n",
        "> 2. TailNum:\n",
        "\n",
        "> > - Missing values: 22/7453215 (0.0003%)\n",
        "\n",
        "> > - Solution: This is categorical data, we cannot use alternative statistical methods because it may not exist, so we will **remove these rows** because it makes up an extremely low percentage of our data. \n",
        "\n",
        "> 3. CRSElapsedTime:\n",
        "\n",
        "> > - Missing values: 994/7453215 (0.01%).\n",
        "\n",
        "> > - Basic statistics index: Mean 127.250240, Std 70.357498, Median 156, Min = -1240.0, Max = 1430.\n",
        "\n",
        "> > - Solution: Because the missing data is not much and std is very large, the method with little effect on the model is probably taking the mean, so we **replace NaN with the Mean value**.\n",
        "\n",
        "> 4. AirTime:\n",
        "\n",
        "> > - Missing values: 177927/7453215 (2.39%).\n",
        "\n",
        "> > - Basic statistics index: Mean 102.815936, Std 68.245767, Median 0, Min = -312.0, Max = 2598257.\n",
        "\n",
        "> > - Solution: Because the missing data is not much and std is very large, the method with little effect on the model is probably taking the mean, so we **replace NaN with the Mean value**.\n",
        "\n",
        "> 5. ArrDelay:\n",
        "\n",
        "> > - Missing values: 177927/7453215 (2.39%).\n",
        "\n",
        "> > - Basic statistics index: Mean 10.192181, Std 39.307739, Median -305.0, Min = 0, Max = 2601.0.\n",
        "\n",
        "> > - Solution: Because the missing value is quiet largeBecause the missing data is not much and std is very large, the method with little effect on the model is probably taking the mean, so we **replace NaN with the Mean value**.\n",
        "\n",
        "\n",
        "> 6. DepDelay:\n",
        "\n",
        "> > - Missing values: 160748/7453215 (2.16%).\n",
        "\n",
        "> > - Basic statistics index: Mean 11.399142, Std 36.141889, Median -305.0, Min = 0, Max = 2601.0.\n",
        "\n",
        "> > - Solution: Because the missing value is quiet largeBecause the missing data is not much and std is very large, the method with little effect on the model is probably taking the mean, so we **replace NaN with the Mean value**.\n",
        "\n",
        "\n"
      ]
    },
    {
      "cell_type": "code",
      "metadata": {
        "id": "Iv9FEJQrGA0m"
      },
      "source": [
        "# Delete all NaN rows of DepTime and TailNum\n",
        "df = df.dropna(subset=['DepTime', 'TailNum'])\n",
        "# Replace NaN with the Mean value \n",
        "df.DepDelay.fillna(df.DepDelay.mean(), inplace=True)\n",
        "df.CRSElapsedTime.fillna(df.CRSElapsedTime.mean(), inplace=True)\n",
        "df.AirTime.fillna(df.AirTime.mean(), inplace=True)\n",
        "df.ArrDelay.fillna(df.AirTime.mean(), inplace=True)"
      ],
      "execution_count": null,
      "outputs": []
    },
    {
      "cell_type": "code",
      "metadata": {
        "id": "bM7SsoP-JS26",
        "colab": {
          "base_uri": "https://localhost:8080/",
          "height": 173
        },
        "outputId": "b4519878-d55d-4e61-a27f-4e1fd5176144"
      },
      "source": [
        "df.head(4) # Check ArrDelay again"
      ],
      "execution_count": null,
      "outputs": [
        {
          "output_type": "execute_result",
          "data": {
            "text/html": [
              "<div>\n",
              "<style scoped>\n",
              "    .dataframe tbody tr th:only-of-type {\n",
              "        vertical-align: middle;\n",
              "    }\n",
              "\n",
              "    .dataframe tbody tr th {\n",
              "        vertical-align: top;\n",
              "    }\n",
              "\n",
              "    .dataframe thead th {\n",
              "        text-align: right;\n",
              "    }\n",
              "</style>\n",
              "<table border=\"1\" class=\"dataframe\">\n",
              "  <thead>\n",
              "    <tr style=\"text-align: right;\">\n",
              "      <th></th>\n",
              "      <th>Month</th>\n",
              "      <th>DayofMonth</th>\n",
              "      <th>DayOfWeek</th>\n",
              "      <th>DepTime</th>\n",
              "      <th>CRSDepTime</th>\n",
              "      <th>UniqueCarrier</th>\n",
              "      <th>FlightNum</th>\n",
              "      <th>TailNum</th>\n",
              "      <th>CRSElapsedTime</th>\n",
              "      <th>AirTime</th>\n",
              "      <th>ArrDelay</th>\n",
              "      <th>DepDelay</th>\n",
              "      <th>Origin</th>\n",
              "      <th>Dest</th>\n",
              "      <th>Distance</th>\n",
              "      <th>TaxiIn</th>\n",
              "      <th>TaxiOut</th>\n",
              "      <th>Diverted</th>\n",
              "    </tr>\n",
              "  </thead>\n",
              "  <tbody>\n",
              "    <tr>\n",
              "      <th>0</th>\n",
              "      <td>1</td>\n",
              "      <td>1</td>\n",
              "      <td>1</td>\n",
              "      <td>1232.0</td>\n",
              "      <td>1225</td>\n",
              "      <td>WN</td>\n",
              "      <td>2891</td>\n",
              "      <td>N351</td>\n",
              "      <td>75.0</td>\n",
              "      <td>54.0</td>\n",
              "      <td>1.0</td>\n",
              "      <td>7.0</td>\n",
              "      <td>SMF</td>\n",
              "      <td>ONT</td>\n",
              "      <td>389</td>\n",
              "      <td>4</td>\n",
              "      <td>11</td>\n",
              "      <td>0</td>\n",
              "    </tr>\n",
              "    <tr>\n",
              "      <th>1</th>\n",
              "      <td>1</td>\n",
              "      <td>1</td>\n",
              "      <td>1</td>\n",
              "      <td>1918.0</td>\n",
              "      <td>1905</td>\n",
              "      <td>WN</td>\n",
              "      <td>462</td>\n",
              "      <td>N370</td>\n",
              "      <td>90.0</td>\n",
              "      <td>74.0</td>\n",
              "      <td>8.0</td>\n",
              "      <td>13.0</td>\n",
              "      <td>SMF</td>\n",
              "      <td>PDX</td>\n",
              "      <td>479</td>\n",
              "      <td>5</td>\n",
              "      <td>6</td>\n",
              "      <td>0</td>\n",
              "    </tr>\n",
              "    <tr>\n",
              "      <th>2</th>\n",
              "      <td>1</td>\n",
              "      <td>1</td>\n",
              "      <td>1</td>\n",
              "      <td>2206.0</td>\n",
              "      <td>2130</td>\n",
              "      <td>WN</td>\n",
              "      <td>1229</td>\n",
              "      <td>N685</td>\n",
              "      <td>90.0</td>\n",
              "      <td>73.0</td>\n",
              "      <td>34.0</td>\n",
              "      <td>36.0</td>\n",
              "      <td>SMF</td>\n",
              "      <td>PDX</td>\n",
              "      <td>479</td>\n",
              "      <td>6</td>\n",
              "      <td>9</td>\n",
              "      <td>0</td>\n",
              "    </tr>\n",
              "    <tr>\n",
              "      <th>3</th>\n",
              "      <td>1</td>\n",
              "      <td>1</td>\n",
              "      <td>1</td>\n",
              "      <td>1230.0</td>\n",
              "      <td>1200</td>\n",
              "      <td>WN</td>\n",
              "      <td>1355</td>\n",
              "      <td>N364</td>\n",
              "      <td>90.0</td>\n",
              "      <td>75.0</td>\n",
              "      <td>26.0</td>\n",
              "      <td>30.0</td>\n",
              "      <td>SMF</td>\n",
              "      <td>PDX</td>\n",
              "      <td>479</td>\n",
              "      <td>3</td>\n",
              "      <td>8</td>\n",
              "      <td>0</td>\n",
              "    </tr>\n",
              "  </tbody>\n",
              "</table>\n",
              "</div>"
            ],
            "text/plain": [
              "   Month  DayofMonth  DayOfWeek  DepTime  ...  Distance TaxiIn  TaxiOut Diverted\n",
              "0      1           1          1   1232.0  ...       389      4       11        0\n",
              "1      1           1          1   1918.0  ...       479      5        6        0\n",
              "2      1           1          1   2206.0  ...       479      6        9        0\n",
              "3      1           1          1   1230.0  ...       479      3        8        0\n",
              "\n",
              "[4 rows x 18 columns]"
            ]
          },
          "metadata": {
            "tags": []
          },
          "execution_count": 13
        }
      ]
    },
    {
      "cell_type": "code",
      "metadata": {
        "id": "Evx92IqmHNJe",
        "colab": {
          "base_uri": "https://localhost:8080/"
        },
        "outputId": "884cde4c-b2ec-4c0d-e9a8-7d6439147583"
      },
      "source": [
        "df.isnull().sum()  # Check missing value again"
      ],
      "execution_count": null,
      "outputs": [
        {
          "output_type": "execute_result",
          "data": {
            "text/plain": [
              "Month             0\n",
              "DayofMonth        0\n",
              "DayOfWeek         0\n",
              "DepTime           0\n",
              "CRSDepTime        0\n",
              "UniqueCarrier     0\n",
              "FlightNum         0\n",
              "TailNum           0\n",
              "CRSElapsedTime    0\n",
              "AirTime           0\n",
              "ArrDelay          0\n",
              "DepDelay          0\n",
              "Origin            0\n",
              "Dest              0\n",
              "Distance          0\n",
              "TaxiIn            0\n",
              "TaxiOut           0\n",
              "Diverted          0\n",
              "dtype: int64"
            ]
          },
          "metadata": {
            "tags": []
          },
          "execution_count": 14
        }
      ]
    },
    {
      "cell_type": "markdown",
      "metadata": {
        "id": "vrDbW-T_RbSP"
      },
      "source": [
        "\n",
        "### 2.2 Data analyzing and feature selection\n",
        "\n"
      ]
    },
    {
      "cell_type": "markdown",
      "metadata": {
        "id": "3N1QcmrVIhBc"
      },
      "source": [
        "#### 2.2.1 Handle high correlated features"
      ]
    },
    {
      "cell_type": "code",
      "metadata": {
        "id": "MX3_tploL0Uh",
        "colab": {
          "base_uri": "https://localhost:8080/",
          "height": 686
        },
        "outputId": "f9c0079c-64f8-40d8-ad81-8dcd275afac3"
      },
      "source": [
        "plt.figure(figsize=(12,10)) # Create new figure   \n",
        "corr = df.corr() # Calculate correlation of features and plot diagram using seaborn librabry\n",
        "sns.heatmap(corr, xticklabels=corr.columns.values, yticklabels=corr.columns.values, center=0,  annot= True, linewidths=0.2)"
      ],
      "execution_count": null,
      "outputs": [
        {
          "output_type": "execute_result",
          "data": {
            "text/plain": [
              "<matplotlib.axes._subplots.AxesSubplot at 0x7fdbeeabdc50>"
            ]
          },
          "metadata": {
            "tags": []
          },
          "execution_count": 15
        },
        {
          "output_type": "display_data",
          "data": {
            "image/png": "[encoded data removed]",
            "text/plain": [
              "<Figure size 864x720 with 2 Axes>"
            ]
          },
          "metadata": {
            "tags": [],
            "needs_background": "light"
          }
        }
      ]
    },
    {
      "cell_type": "markdown",
      "metadata": {
        "id": "TNEaQ7bx5aLH"
      },
      "source": [
        "> Because DepTime and CRSDepTime, AirTime and CRSElapsedTime, Distance and AirTime, Distance and CRSElapsedTime have high correlation, we **remove 3 features AirTime, CRSElapsedTime, CRSDepTime** to make the model more realistic.\n",
        "\n",
        "\n"
      ]
    },
    {
      "cell_type": "code",
      "metadata": {
        "id": "bL9qYGv56fFo"
      },
      "source": [
        "# Delete 3 features high correlation \n",
        "del df['AirTime']\n",
        "del df['CRSElapsedTime']\n",
        "del df['CRSDepTime']"
      ],
      "execution_count": null,
      "outputs": []
    },
    {
      "cell_type": "markdown",
      "metadata": {
        "id": "agcYbNzyIW0Q"
      },
      "source": [
        "> **Categorical data**: Month, DayofMonth, DayOfWeek, UniqueCarrier, Origin, Dest, TailNum, Diverted.\n",
        "\n",
        "> **Numerical data**: DepTime, FlightNum, ArrDelay, DepDelay, Distance, TaxiIn, TaxiOut."
      ]
    },
    {
      "cell_type": "code",
      "metadata": {
        "id": "dT9rjzsPocVL"
      },
      "source": [
        "# List numerical feature\n",
        "# This is scheduled data\n",
        "list_numerical_features = ['DepTime','FlightNum','Distance','TaxiIn','TaxiOut','DepDelay'] "
      ],
      "execution_count": null,
      "outputs": []
    },
    {
      "cell_type": "code",
      "metadata": {
        "id": "6XTY2Ojc8G2Q",
        "colab": {
          "base_uri": "https://localhost:8080/",
          "height": 1000
        },
        "outputId": "aae574b6-874c-41b2-ee61-2e47cf6a1727"
      },
      "source": [
        "fig, ax = plt.subplots(3,2, figsize=(12,12)) # Create new figure with 3 rows and 2 columns\n",
        "i=0 \n",
        "for x in range(3):\n",
        "    for y in range(2):\n",
        "        sns.distplot(df[list_numerical_features[i]], ax = ax[x,y]) # Plot distribution diagram\n",
        "        i += 1 \n",
        "plt.tight_layout() # Adjust subplots fit figure area\n",
        "plt.show() # Show all subplots"
      ],
      "execution_count": null,
      "outputs": [
        {
          "output_type": "stream",
          "text": [
            "/usr/local/lib/python3.7/dist-packages/seaborn/distributions.py:2557: FutureWarning: `distplot` is a deprecated function and will be removed in a future version. Please adapt your code to use either `displot` (a figure-level function with similar flexibility) or `histplot` (an axes-level function for histograms).\n",
            "  warnings.warn(msg, FutureWarning)\n",
            "/usr/local/lib/python3.7/dist-packages/seaborn/distributions.py:2557: FutureWarning: `distplot` is a deprecated function and will be removed in a future version. Please adapt your code to use either `displot` (a figure-level function with similar flexibility) or `histplot` (an axes-level function for histograms).\n",
            "  warnings.warn(msg, FutureWarning)\n",
            "/usr/local/lib/python3.7/dist-packages/seaborn/distributions.py:2557: FutureWarning: `distplot` is a deprecated function and will be removed in a future version. Please adapt your code to use either `displot` (a figure-level function with similar flexibility) or `histplot` (an axes-level function for histograms).\n",
            "  warnings.warn(msg, FutureWarning)\n",
            "/usr/local/lib/python3.7/dist-packages/seaborn/distributions.py:2557: FutureWarning: `distplot` is a deprecated function and will be removed in a future version. Please adapt your code to use either `displot` (a figure-level function with similar flexibility) or `histplot` (an axes-level function for histograms).\n",
            "  warnings.warn(msg, FutureWarning)\n",
            "/usr/local/lib/python3.7/dist-packages/seaborn/distributions.py:2557: FutureWarning: `distplot` is a deprecated function and will be removed in a future version. Please adapt your code to use either `displot` (a figure-level function with similar flexibility) or `histplot` (an axes-level function for histograms).\n",
            "  warnings.warn(msg, FutureWarning)\n",
            "/usr/local/lib/python3.7/dist-packages/seaborn/distributions.py:2557: FutureWarning: `distplot` is a deprecated function and will be removed in a future version. Please adapt your code to use either `displot` (a figure-level function with similar flexibility) or `histplot` (an axes-level function for histograms).\n",
            "  warnings.warn(msg, FutureWarning)\n"
          ],
          "name": "stderr"
        },
        {
          "output_type": "display_data",
          "data": {
            "image/png": "[encoded data removed]",
            "text/plain": [
              "<Figure size 864x864 with 6 Axes>"
            ]
          },
          "metadata": {
            "tags": [],
            "needs_background": "light"
          }
        }
      ]
    },
    {
      "cell_type": "markdown",
      "metadata": {
        "id": "WgQJGyipD6yg"
      },
      "source": [
        "> **Conclusion:** All are not normally distribution, so we need to standardize the data to increase accuracy for data analysis."
      ]
    },
    {
      "cell_type": "markdown",
      "metadata": {
        "id": "ySjwu7FeC8Y7"
      },
      "source": [
        "#### 2.2.2 Handle outlier and visualize correlation of categorical features"
      ]
    },
    {
      "cell_type": "code",
      "metadata": {
        "id": "faAwDSBgCF2a"
      },
      "source": [
        "# Function to remove outlier\n",
        "def remove_outlier(df_in, col_name):\n",
        "    q1 = df_in[col_name].quantile(0.25) # Q1\n",
        "    q3 = df_in[col_name].quantile(0.75) # Q3\n",
        "    iqr = q3-q1 # Interquartile range\n",
        "    fence_low  = q1-1.5*iqr\n",
        "    fence_high = q3+1.5*iqr\n",
        "    df_out = df_in.loc[(df_in[col_name] > fence_low) & (df_in[col_name] < fence_high)]\n",
        "    return df_out\n",
        "# Remove outlier all feature columns of data\n",
        "for column in list_numerical_features:\n",
        "  df = remove_outlier(df,column)"
      ],
      "execution_count": null,
      "outputs": []
    },
    {
      "cell_type": "markdown",
      "metadata": {
        "id": "p1z_SDAiI_T1"
      },
      "source": [
        "> Check the correlation of ArrDelay and categorical feature such as: UniqueCarrier, Month, DayOfMonth, DayOfWeek. "
      ]
    },
    {
      "cell_type": "code",
      "metadata": {
        "id": "C4q_FFByUogF",
        "colab": {
          "base_uri": "https://localhost:8080/",
          "height": 760
        },
        "outputId": "4f599182-400a-447f-e8ff-f341d4b8c81d"
      },
      "source": [
        "sns.catplot(x='UniqueCarrier', y='ArrDelay', data=df, height=10, kind='box') # Box plot \n",
        "plt.plot([0, 20], [30, 30], linewidth=2) # Mean line"
      ],
      "execution_count": null,
      "outputs": [
        {
          "output_type": "execute_result",
          "data": {
            "text/plain": [
              "[<matplotlib.lines.Line2D at 0x7fdbe25ab350>]"
            ]
          },
          "metadata": {
            "tags": []
          },
          "execution_count": 20
        },
        {
          "output_type": "display_data",
          "data": {
            "image/png": "[encoded data removed]",
            "text/plain": [
              "<Figure size 720x720 with 1 Axes>"
            ]
          },
          "metadata": {
            "tags": [],
            "needs_background": "light"
          }
        }
      ]
    },
    {
      "cell_type": "markdown",
      "metadata": {
        "id": "yXcImEiIYNaq"
      },
      "source": [
        "> **Conlusion:** Mean of all is less than 30 minutes, so there are no late flights \n",
        "\n",
        "> Define target column (ArrDelay) and encode ArrDelay to categorical data"
      ]
    },
    {
      "cell_type": "code",
      "metadata": {
        "id": "dnWetZTYZqD4"
      },
      "source": [
        "# Encode ArrDelay feature to 1 if the plane is more than 30 minutes late and to 0 if less\n",
        "# ArrDelay_categorical will store categorical data of ArrDelay column\n",
        "df['ArrDelay_categorical'] = np.where(df['ArrDelay'] >= 30, 1, 0)"
      ],
      "execution_count": null,
      "outputs": []
    },
    {
      "cell_type": "code",
      "metadata": {
        "id": "n403fSR4CYa9",
        "colab": {
          "base_uri": "https://localhost:8080/"
        },
        "outputId": "5ff163c7-feb5-46aa-cd8a-81cf29c0cb41"
      },
      "source": [
        "df['ArrDelay_categorical'].value_counts() # Check the number of 2 classes 1 and 0 after regulation"
      ],
      "execution_count": null,
      "outputs": [
        {
          "output_type": "execute_result",
          "data": {
            "text/plain": [
              "0    5204547\n",
              "1     102016\n",
              "Name: ArrDelay_categorical, dtype: int64"
            ]
          },
          "metadata": {
            "tags": []
          },
          "execution_count": 22
        }
      ]
    },
    {
      "cell_type": "code",
      "metadata": {
        "id": "TktE40H1VG1a",
        "colab": {
          "base_uri": "https://localhost:8080/",
          "height": 739
        },
        "outputId": "1dd1c0ba-f4ad-4f1a-cb26-1cac3e4e500b"
      },
      "source": [
        "early_month = df[df['ArrDelay_categorical'] == 0].groupby('Month').ArrDelay.mean() # Group the same values by the mean of ArrDelay\n",
        "early_month = pd.DataFrame({'Month':range(1,13),'ArrDelay':early_month.values}) \n",
        "late_month = df[df['ArrDelay_categorical'] == 1].groupby('Month').ArrDelay.mean()\n",
        "late_month = pd.DataFrame({'Month':range(1,13),'ArrDelay':late_month.values})\n",
        "total_month = df.groupby('Month').ArrDelay.mean()\n",
        "total_month = pd.DataFrame({'Month':range(1,13),'ArrDelay':total_month.values})\n",
        "# Create new figure for subplots\n",
        "f, ax = plt.subplots(ncols=1,figsize=(20,8))\n",
        "# Plot diagram\n",
        "sns.set_color_codes(\"bright\")\n",
        "sns.barplot(y=\"ArrDelay\", x=\"Month\", data=late_month, label='Late Arrival Delay', color='r', orient='v', ax=ax)\n",
        "sns.set_color_codes(\"bright\")\n",
        "sns.barplot(y='ArrDelay', x='Month',data=early_month,label='Early Arrival Delay',color='g', orient='v',ax=ax)\n",
        "sns.set_color_codes(\"bright\")\n",
        "sns.barplot(y='ArrDelay', x='Month',data=total_month,label='Total Arrival Delay',color='b', orient='v',ax=ax)\n",
        "# Finalize\n",
        "ax.legend(ncol=1, loc=\"Upper right\", frameon=True)\n",
        "ax.set(ylabel='Average ArrDelay')\n",
        "ax.set_title('Average delay time by months', fontdict={'fontsize': 20})\n",
        "ax.grid(False)\n",
        "ax._frameon = False\n",
        "del early_month\n",
        "del late_month\n",
        "del total_month\n"
      ],
      "execution_count": null,
      "outputs": [
        {
          "output_type": "stream",
          "text": [
            "/usr/local/lib/python3.7/dist-packages/ipykernel_launcher.py:17: MatplotlibDeprecationWarning: Unrecognized location 'Upper right'. Falling back on 'best'; valid locations are\n",
            "\tbest\n",
            "\tupper right\n",
            "\tupper left\n",
            "\tlower left\n",
            "\tlower right\n",
            "\tright\n",
            "\tcenter left\n",
            "\tcenter right\n",
            "\tlower center\n",
            "\tupper center\n",
            "\tcenter\n",
            "This will raise an exception in 3.3.\n"
          ],
          "name": "stderr"
        },
        {
          "output_type": "display_data",
          "data": {
            "image/png": "[encoded data removed]",
            "text/plain": [
              "<Figure size 1440x576 with 1 Axes>"
            ]
          },
          "metadata": {
            "tags": [],
            "needs_background": "light"
          }
        }
      ]
    },
    {
      "cell_type": "markdown",
      "metadata": {
        "id": "Io9h1jMbcEYv"
      },
      "source": [
        "> **Conclusion:** Based on the graph\n",
        "\n",
        "> 1.   Late flights are the largest proportion.\n",
        "> 2.   The mean of delay time is 40 minutes or more.\n",
        "> 3.   The delay time is highest in July, August, September. \n",
        "\n"
      ]
    },
    {
      "cell_type": "code",
      "metadata": {
        "id": "RbC3UleghQTW"
      },
      "source": [
        "# Convert DayOfMonth to categorical feature\n",
        "df[\"Week\"]=df[\"DayofMonth\"]\n",
        "# Week1\n",
        "for i in range(1,8):\n",
        "  df['Week'] = df['Week'].replace(i,'Week_1')\n",
        "# Week2\n",
        "for i in range(8,15):\n",
        "  df['Week'] = df['Week'].replace(i,'Week_2')\n",
        "# Week3\n",
        "for i in range(15,22):\n",
        "  df['Week'] = df['Week'].replace(i,'Week_3')\n",
        "# Week4\n",
        "for i in range(22,31):\n",
        "  df['Week'] = df['Week'].replace(i,'Week_4')"
      ],
      "execution_count": null,
      "outputs": []
    },
    {
      "cell_type": "code",
      "metadata": {
        "id": "Y1QkrOg8hVNJ",
        "colab": {
          "base_uri": "https://localhost:8080/",
          "height": 904
        },
        "outputId": "14195627-7fca-4d30-baca-d25abeaf58cd"
      },
      "source": [
        "sns.catplot(x='Week', y='ArrDelay', data=df,height=12,kind='box') # Box plot\n",
        "plt.plot([0, 3], [30,30], linewidth=2) # Mean line"
      ],
      "execution_count": null,
      "outputs": [
        {
          "output_type": "execute_result",
          "data": {
            "text/plain": [
              "[<matplotlib.lines.Line2D at 0x7fdbe241d7d0>]"
            ]
          },
          "metadata": {
            "tags": []
          },
          "execution_count": 25
        },
        {
          "output_type": "display_data",
          "data": {
            "image/png": "[encoded data removed]",
            "text/plain": [
              "<Figure size 864x864 with 1 Axes>"
            ]
          },
          "metadata": {
            "tags": [],
            "needs_background": "light"
          }
        }
      ]
    },
    {
      "cell_type": "markdown",
      "metadata": {
        "id": "pjOnOSfxiA_H"
      },
      "source": [
        "> **Conclusion:** Based on the graph\n",
        "\n",
        "> 1.   The mean of delay time is less than 30 minutes.\n",
        "> 2.   The delay time is almost the same at 4 Weeks.\n",
        "\n"
      ]
    },
    {
      "cell_type": "code",
      "metadata": {
        "id": "bMVZuLu0R5y7"
      },
      "source": [
        "df['Day']=df['DayOfWeek']\n",
        "Day_Of_Week = ['Sunday','Monday', 'Tuesday', 'Wednesday', 'Thursday', 'Friday', 'Saturday']\n",
        "# Covert the numerical to day of week\n",
        "for i in range(1,8):\n",
        "  df['Day'] = df['Day'].replace(i,Day_Of_Week[i-1])\n"
      ],
      "execution_count": null,
      "outputs": []
    },
    {
      "cell_type": "code",
      "metadata": {
        "id": "gPjMjXtJfy-z",
        "colab": {
          "base_uri": "https://localhost:8080/",
          "height": 760
        },
        "outputId": "a389152f-5c87-46d2-e15e-9a78327af028"
      },
      "source": [
        "sns.catplot(x='Day', y='ArrDelay', data=df,height=10,kind='box') # Box plot\n",
        "plt.plot([0, 6], [30,30], linewidth=2) # Mean line"
      ],
      "execution_count": null,
      "outputs": [
        {
          "output_type": "execute_result",
          "data": {
            "text/plain": [
              "[<matplotlib.lines.Line2D at 0x7fdbc2a3a050>]"
            ]
          },
          "metadata": {
            "tags": []
          },
          "execution_count": 27
        },
        {
          "output_type": "display_data",
          "data": {
            "image/png": "[encoded data removed]",
            "text/plain": [
              "<Figure size 720x720 with 1 Axes>"
            ]
          },
          "metadata": {
            "tags": [],
            "needs_background": "light"
          }
        }
      ]
    },
    {
      "cell_type": "markdown",
      "metadata": {
        "id": "0WAgNTKnB4V2"
      },
      "source": [
        "> **Conclusion:** Based on the graph\n",
        "\n",
        "> 1.   The mean of delay time is less than 30 minutes.\n",
        "> 2.   The delay time is almost the same at 7 days.\n",
        "\n"
      ]
    },
    {
      "cell_type": "code",
      "metadata": {
        "id": "GsUhN-v8ZYfY",
        "colab": {
          "base_uri": "https://localhost:8080/",
          "height": 740
        },
        "outputId": "7e591d44-b6f5-49dd-b546-84293072d931"
      },
      "source": [
        "df['Distance_categorical'] = df['Distance'].apply(lambda x: 'Short' if x<=326 else('Medium' if 326<x<954 else 'Long'))\n",
        "early_DoW = df[df['ArrDelay_categorical'] == 0].groupby('Distance_categorical').ArrDelay.mean()\n",
        "early_DoW = pd.DataFrame({'Distance_categorical': ['Short', 'Medium', 'Long'], 'ArrDelay':early_DoW.values})\n",
        "late_DoW = df[df['ArrDelay_categorical'] == 1].groupby('Distance_categorical').ArrDelay.mean()\n",
        "late_DoW = pd.DataFrame({'Distance_categorical': ['Short', 'Medium', 'Long'], 'ArrDelay':late_DoW.values})\n",
        "total_DoW = df.groupby('Distance_categorical').ArrDelay.mean()\n",
        "total_DoW = pd.DataFrame({'Distance_categorical':['Short', 'Medium', 'Long'],'ArrDelay':total_DoW.values})\n",
        "\n",
        "# Create new figure for subplots\n",
        "f, ax = plt.subplots(ncols=1,figsize=(20,8)) \n",
        "sns.set_color_codes('bright')\n",
        "sns.barplot(y='ArrDelay', x='Distance_categorical', data=late_DoW, label='Late Arrival Delay', color='r', orient='v', ax=ax)\n",
        "sns.set_color_codes('bright')\n",
        "sns.barplot(y='ArrDelay', x='Distance_categorical',data=early_DoW,label='Early Arrival Delay',color='g', orient='v',ax=ax)\n",
        "sns.set_color_codes('bright')\n",
        "sns.barplot(y='ArrDelay', x='Distance_categorical', data=total_DoW, label='Total Arrival Delay', color='b', orient='v', ax=ax )\n",
        "# Finalize\n",
        "ax.legend(ncol=1, loc=\"Upper right\", frameon=True)\n",
        "ax.set(ylabel='Average ArrDelay')\n",
        "ax.set_title('Average delay time by Distance', fontdict={'fontsize': 20})\n",
        "ax.grid(False)\n",
        "ax._frameon = False\n",
        "del early_DoW\n",
        "del late_DoW\n",
        "del total_DoW \n"
      ],
      "execution_count": null,
      "outputs": [
        {
          "output_type": "stream",
          "text": [
            "/usr/local/lib/python3.7/dist-packages/ipykernel_launcher.py:18: MatplotlibDeprecationWarning: Unrecognized location 'Upper right'. Falling back on 'best'; valid locations are\n",
            "\tbest\n",
            "\tupper right\n",
            "\tupper left\n",
            "\tlower left\n",
            "\tlower right\n",
            "\tright\n",
            "\tcenter left\n",
            "\tcenter right\n",
            "\tlower center\n",
            "\tupper center\n",
            "\tcenter\n",
            "This will raise an exception in 3.3.\n"
          ],
          "name": "stderr"
        },
        {
          "output_type": "display_data",
          "data": {
            "image/png": "[encoded data removed]",
            "text/plain": [
              "<Figure size 1440x576 with 1 Axes>"
            ]
          },
          "metadata": {
            "tags": [],
            "needs_background": "light"
          }
        }
      ]
    },
    {
      "cell_type": "markdown",
      "metadata": {
        "id": "vVdhyCtCa2Qa"
      },
      "source": [
        "> **Conclusion:**\n",
        "\n",
        "> > The delay time in short, medium and high lines is near to each other\n",
        "\n",
        "> > Regarding the number of flights delayed by distance, the short distance had the most late arrivals and the medium route had the most late arrivals. \n",
        "\n",
        "> > If we fly through the interquence of the middle, then the possibility of flight delay (Arrival Delay) is the lowest."
      ]
    },
    {
      "cell_type": "markdown",
      "metadata": {
        "id": "XuCYgOdPbkie"
      },
      "source": [
        "\n",
        "\n",
        "---\n",
        "\n",
        "\n",
        "## **3. Hypothesis Testing**\n",
        "\n",
        "### 3.1 Assumption:\n",
        "\n",
        "1.   The samples are independent. (Currently independent)\n",
        "2.   Each sample is from a normally distributed population. (Not standardized)\n",
        "3.   The population standard deviations of the groups are all equal. \n",
        "\n",
        "\n",
        "\n",
        "\n",
        "\n",
        "\n",
        "\n"
      ]
    },
    {
      "cell_type": "markdown",
      "metadata": {
        "id": "icVQW111Tn7H"
      },
      "source": [
        "### 3.1 Anova test for Origin feature\n",
        "> H0: All values in Origin have the same mean\n",
        "\n",
        "> H1: Not the same"
      ]
    },
    {
      "cell_type": "code",
      "metadata": {
        "id": "Zl6apFgBcNra",
        "colab": {
          "base_uri": "https://localhost:8080/"
        },
        "outputId": "dcde1258-dddf-402d-d672-51ff11087bd3"
      },
      "source": [
        "Origin_unique = pd.unique(df['Origin']) # Get unique value of Origin column\n",
        "Decision = 'Reject' # State variable of H0 \n",
        "Origin_sample = [] # List ArrDelay contain of the unique Origin\n",
        "\n",
        "for unique_value in Origin_unique:\n",
        "    Origin_list_unique = list(df[\"ArrDelay\"][df[df[\"Origin\"]==unique_value].index]) # Value of ArrDelay contain of the unique Origin\n",
        "    Origin_sample.append(Origin_list_unique) # Add to list Origin_sample\n",
        "\n",
        "for i in range(len(Origin_sample)-1):\n",
        "    F, p = stats.f_oneway(Origin_sample[i],Origin_sample[i+1]) # Use Anova for each pair in Origin_sample \n",
        "    if p < 0.05: \n",
        "        Decision = 'Accept'\n",
        "        break\n",
        "print(Decision + \" H0\")"
      ],
      "execution_count": null,
      "outputs": [
        {
          "output_type": "stream",
          "text": [
            "Accept H0\n"
          ],
          "name": "stdout"
        }
      ]
    },
    {
      "cell_type": "markdown",
      "metadata": {
        "id": "htQxczF2W-Xx"
      },
      "source": [
        "### 3.2 Anova test for UniqueCarrier feature\n",
        "> H0: All values in UniqueCarrier have the same mean\n",
        "\n",
        "> H1: Not the same"
      ]
    },
    {
      "cell_type": "code",
      "metadata": {
        "id": "Nl1nfJr3cP0l",
        "colab": {
          "base_uri": "https://localhost:8080/"
        },
        "outputId": "af9d8306-2d26-4bba-ca79-744c773cf40b"
      },
      "source": [
        "UniqueCarrier_unique = pd.unique(df['UniqueCarrier']) # Get unique value of UniqueCarrier column\n",
        "Decision = 'Reject' # State variable of H0 \n",
        "UniqueCarrier_sample = [] # List ArrDelay contain of the unique UniqueCarrier\n",
        "\n",
        "for unique_value in UniqueCarrier_unique:\n",
        "    UniqueCarrier_list_unique = list(df[\"ArrDelay\"][df[df[\"UniqueCarrier\"]==unique_value].index]) # Value of ArrDelay contain of the unique UniqueCarrier\n",
        "    UniqueCarrier_sample.append(UniqueCarrier_list_unique) # Add to list UniqueCarrier_sample\n",
        "\n",
        "for i in range(len(UniqueCarrier_sample)-1):\n",
        "    F, p = stats.f_oneway(UniqueCarrier_sample[i],UniqueCarrier_sample[i+1]) # Use Anova for each pair in UniqueCarrier_sample \n",
        "    if p < 0.05: \n",
        "        Decision = 'Accept'\n",
        "        break\n",
        "print(Decision + \" H0\")"
      ],
      "execution_count": null,
      "outputs": [
        {
          "output_type": "stream",
          "text": [
            "Accept H0\n"
          ],
          "name": "stdout"
        }
      ]
    },
    {
      "cell_type": "markdown",
      "metadata": {
        "id": "vP4u7XJgZQi4"
      },
      "source": [
        "### 3.3 Anova test for Dest feature\n",
        "> H0: All values in Dest have the same mean.\n",
        "\n",
        "> H1: Not the same"
      ]
    },
    {
      "cell_type": "code",
      "metadata": {
        "id": "phsMVGvMcSCc",
        "colab": {
          "base_uri": "https://localhost:8080/"
        },
        "outputId": "fed702d3-9d5b-43c0-c27d-725061f436bc"
      },
      "source": [
        "Dest_unique = pd.unique(df['Dest']) # Get unique value of Dest column\n",
        "Decision = 'Reject' # State variable of H0 \n",
        "Dest_sample = [] # List ArrDelay contain of the unique Dest\n",
        "\n",
        "for unique_value in UniqueCarrier_unique:\n",
        "    Dest_list_unique = list(df[\"ArrDelay\"][df[df[\"Dest\"]==unique_value].index]) # Value of ArrDelay contain of the unique Dest\n",
        "    Dest_sample.append(Dest_list_unique) # Add to list Dest_sample\n",
        "\n",
        "for i in range(len(Dest_sample)-1):\n",
        "    F, p = stats.f_oneway(Dest_sample[i],Dest_sample[i+1]) # Use Anova for each pair in Dest_sample \n",
        "    if p < 0.05: \n",
        "        Decision = 'Accept'\n",
        "        break\n",
        "print(Decision + \" H0\")"
      ],
      "execution_count": null,
      "outputs": [
        {
          "output_type": "stream",
          "text": [
            "Accept H0\n"
          ],
          "name": "stdout"
        }
      ]
    },
    {
      "cell_type": "code",
      "metadata": {
        "id": "Bn2duepDOTar"
      },
      "source": [
        "df.to_csv('/content/drive/MyDrive/Data/new_2007.csv')"
      ],
      "execution_count": null,
      "outputs": []
    },
    {
      "cell_type": "markdown",
      "metadata": {
        "id": "PV-YHhOe_zeZ"
      },
      "source": [
        "\n",
        "\n",
        "---\n",
        "\n",
        "## **4. Conclusion**"
      ]
    },
    {
      "cell_type": "markdown",
      "metadata": {
        "id": "a7Rv3mvhCD9S"
      },
      "source": [
        "\n",
        "\n",
        "1.   Data is imbalance when the number of late flights is almost 50 times more than the number of flights without delay\n",
        "2.   The average value of the delay time of the days of the week or the months of the year is approximately equal and is proved by the hypothesis testing.\n",
        "3. The data distribution of the features is not normally distributed\n",
        "\n"
      ]
    }
  ]
}